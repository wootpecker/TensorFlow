{
 "cells": [
  {
   "cell_type": "markdown",
   "metadata": {},
   "source": [
    "\n",
    "Verwendung der verschiedenen Keras Applications mit einem Bild\n"
   ]
  },
  {
   "cell_type": "code",
   "execution_count": null,
   "metadata": {},
   "outputs": [],
   "source": [
    "import os\n",
    "import tensorflow as tf\n",
    "from tensorflow import keras\n",
    "from tensorflow.keras.layers import Dense, Activation\n",
    "from tensorflow.keras.utils import plot_model\n",
    "from tensorflow.keras.optimizers import SGD\n",
    "from tensorflow.keras.models import Model\n",
    "from PIL import Image\n",
    "import numpy as np\n",
    "import json\n",
    "import matplotlib.pyplot as plt \n",
    "import pprint\n",
    "from sklearn.metrics import classification_report\n",
    "from tabulate import tabulate\n",
    "import urllib.request"
   ]
  },
  {
   "cell_type": "code",
   "execution_count": null,
   "metadata": {
    "lines_to_next_cell": 1
   },
   "outputs": [],
   "source": [
    "sgd = SGD(lr=0.1)"
   ]
  },
  {
   "cell_type": "code",
   "execution_count": null,
   "metadata": {
    "lines_to_next_cell": 1
   },
   "outputs": [],
   "source": [
    "# Initialisierung des ausgwehählten Modells\n",
    "def init_model(model_name):\n",
    "    if(model_name == \"VGG19\"):# Initialisierung des VGG19 \n",
    "        return tf.keras.applications.VGG19(include_top=True,weights='imagenet')\n",
    "    if(model_name == \"VGG16\"):\n",
    "        return tf.keras.applications.VGG16(include_top=True,weights='imagenet')\n",
    "    if(model_name == \"ResNet50\"):\n",
    "        return tf.keras.applications.ResNet50(include_top=True,weights=\"imagenet\")\n",
    "    if(model_name == \"DenseNet201\"):\n",
    "        return tf.keras.applications.DenseNet201(include_top=True,weights=\"imagenet\")\n",
    "    if(model_name == \"DenseNet121\"):\n",
    "        return tf.keras.applications.DenseNet121(include_top=True,weights=\"imagenet\")\n",
    "    if(model_name == \"InceptionResNetV2\"):\n",
    "        return tf.keras.applications.InceptionResNetV2(include_top=True,weights=\"imagenet\")"
   ]
  },
  {
   "cell_type": "code",
   "execution_count": null,
   "metadata": {
    "lines_to_next_cell": 1
   },
   "outputs": [],
   "source": [
    "def get_imagenet_class(index):\n",
    "    classes = json.load(open(\"imagenet_class_index.json\")) #'https://s3.amazonaws.com/deep-learning-models/image-models/imagenet_class_index.json'\n",
    "    return classes[str(index)][1]"
   ]
  },
  {
   "cell_type": "code",
   "execution_count": null,
   "metadata": {
    "lines_to_next_cell": 1
   },
   "outputs": [],
   "source": [
    "# Vorhersage für ein Bild\n",
    "def predict_image(model, img):\n",
    "    img = np.expand_dims(img,axis=0)\n",
    "    image_net_index =  np.argmax(model.predict(img))\n",
    "    return get_imagenet_class(image_net_index)"
   ]
  },
  {
   "cell_type": "code",
   "execution_count": null,
   "metadata": {},
   "outputs": [],
   "source": [
    "# Top n Vorhersage\n",
    "def predict_top_image(model,img,top_value=5):\n",
    "     img = np.expand_dims(img,axis=0)\n",
    "     predictions = model.predict(img)\n",
    "\n",
    "      # [hier werden die n ersten höchsten Indezes gesucht. \n",
    "      # Die Anzahl der zurückzugebende Ergebnisse werden durch den Parameter top_value bestimmt\n",
    "      # Die Numpy-Funktion argpartition wird diese Werte innerhalb vom np.array predictions selektieren\n",
    "      # Die von model.predict() zurückgelieferten Indizes sind nicht absteigend sortiert. \n",
    "   \n",
    "     class_indexes = np.argpartition(predictions[0], -top_value)[-top_value:]\n",
    "\n",
    "     pred = np.array(predictions[0][class_indexes])\n",
    "     ind = pred.argsort()\n",
    "     # Die Arrays class_index und pred sind nicht absteigend bzw. nach Relevanz sortiert: \n",
    "     # das wird durch die Angabe von [::-1] ( ähnlich zu einer Reverse-Funktion ) gelöst ]\n",
    "     return [class_indexes[ind][::-1], pred[ind][::-1]*100]  #class_indexes"
   ]
  },
  {
   "cell_type": "code",
   "execution_count": null,
   "metadata": {},
   "outputs": [],
   "source": [
    "# Anzeige des Bildes mit Titel\n",
    "def show_image(img, title):\n",
    "    plt.title(\"Erkannt : {}\\n\".format(title))\n",
    "    plt.axis('off')\n",
    "    plt.imshow(img,interpolation='none')\n",
    "    plt.show()"
   ]
  },
  {
   "cell_type": "code",
   "execution_count": null,
   "metadata": {
    "lines_to_next_cell": 2
   },
   "outputs": [],
   "source": [
    "# Testbild\n",
    "img_path = \"./samples/test_picture_vgg.jpg\"\n",
    "jpgfile = np.array(Image.open(img_path).convert('RGB').resize((224, 224))) # * 255"
   ]
  },
  {
   "cell_type": "code",
   "execution_count": null,
   "metadata": {},
   "outputs": [],
   "source": [
    "# Liste der Modelle, die wir benutzen werden\n",
    "model_names = [\"VGG16\",\"VGG19\",\"ResNet50\"]\n",
    "TOP_VALUE = 5;"
   ]
  },
  {
   "cell_type": "code",
   "execution_count": null,
   "metadata": {},
   "outputs": [],
   "source": [
    "# Für jedes Model werden wir die Ausgabe von model.predict generieren und anzeigen lassen\n",
    "for model_name in model_names:\n",
    "    \n",
    "    current_model = init_model(model_name)\n",
    "    current_model.compile(optimizer=keras.optimizers.SGD(lr=0.1),loss=\"categorical_crossentropy\")\n",
    "    print(\"--------------------------\")\n",
    "    print(\"Predictions vom Modell {} \".format(model_name))\n",
    "    print(\"Top 1 - Prediction: {}\".format(predict_image(current_model,jpgfile)))\n",
    "    predictions_top_image = predict_top_image(current_model,jpgfile,top_value=TOP_VALUE)\n",
    "    headers=['Class name', 'index','prediction']\n",
    "    table = []\n",
    "    # Ausgabe der n ersten erkannten Klassen\n",
    "    for i in range (0,TOP_VALUE):\n",
    "        class_index = predictions_top_image[0][i]\n",
    "        table.append([str(get_imagenet_class(class_index)),class_index, predictions_top_image[1][i]])\n",
    "    print(tabulate(table,headers = headers,tablefmt='orgtbl'))\n",
    "    print(\"--------------------------\")\n",
    "    del current_model"
   ]
  }
 ],
 "metadata": {
  "jupytext": {
   "cell_metadata_filter": "-all",
   "main_language": "python",
   "notebook_metadata_filter": "-all"
  },
  "kernelspec": {
   "display_name": "Python 3",
   "language": "python",
   "name": "python3"
  },
  "language_info": {
   "codemirror_mode": {
    "name": "ipython",
    "version": 3
   },
   "file_extension": ".py",
   "mimetype": "text/x-python",
   "name": "python",
   "nbconvert_exporter": "python",
   "pygments_lexer": "ipython3",
   "version": "3.7.3"
  }
 },
 "nbformat": 4,
 "nbformat_minor": 2
}
