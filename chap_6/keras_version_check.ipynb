{
 "cells": [
  {
   "cell_type": "code",
   "execution_count": null,
   "metadata": {},
   "outputs": [],
   "source": [
    "# Benutzung von Keras (in TensorFlow)\n",
    "try:\n",
    "    import tensorflow as tf\n",
    "    from tensorflow import keras\n",
    "    print(\"Keras TensorFlow version: {}\".format(keras.__version__))\n",
    "except:\n",
    "    print(\"Keras TensorFlow Version nicht installiert\")"
   ]
  },
  {
   "cell_type": "code",
   "execution_count": null,
   "metadata": {},
   "outputs": [],
   "source": [
    "# Wenn Sie zusätzlich Keras über keras.io installiert haben, werden Sie\n",
    "# folgende Zeilen ausführen können\n",
    "# Wenn es nicht der Fall sein sollte, \n",
    "# werden Sie folgende Fehlermeldung erhalten:\n",
    "# ModuleNotFoundError: No module named 'keras' \n",
    "try:\n",
    "    import keras\n",
    "    print(\"Keras version: {}\".format(keras.__version__))\n",
    "except: \n",
    "    print(\"Keras Version von keras.io nicht installiert\")"
   ]
  }
 ],
 "metadata": {
  "jupytext": {
   "cell_metadata_filter": "-all",
   "main_language": "python",
   "notebook_metadata_filter": "-all"
  }
 },
 "nbformat": 4,
 "nbformat_minor": 2
}
