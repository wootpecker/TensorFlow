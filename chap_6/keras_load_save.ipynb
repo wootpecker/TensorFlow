{
 "cells": [
  {
   "cell_type": "markdown",
   "metadata": {},
   "source": [
    "\n",
    "Modell trainieren, speichern der Modellstruktur und Parameter als JSON und .h5-Dateien mit Keras\n",
    "Trainiertes Modell samt Parameter werden mit Keras erneut geladen \n"
   ]
  },
  {
   "cell_type": "code",
   "execution_count": 18,
   "metadata": {},
   "outputs": [],
   "source": [
    "import tensorflow as tf\n",
    "from tensorflow import keras\n",
    "from tensorflow.keras.models import Sequential, load_model, model_from_yaml, model_from_json\n",
    "from tensorflow.keras.optimizers import SGD\n",
    "from tensorflow.keras.layers import Dense"
   ]
  },
  {
   "cell_type": "code",
   "execution_count": 19,
   "metadata": {},
   "outputs": [],
   "source": [
    "from pprint import pprint\n",
    "import numpy as np"
   ]
  },
  {
   "cell_type": "code",
   "execution_count": 20,
   "metadata": {},
   "outputs": [],
   "source": [
    "# Einfaches Addieren \n",
    "input_data = np.array([\n",
    "[\t1\t,\t1\t]\t,\n",
    "[\t2\t,\t2\t]\t,\n",
    "[\t3\t,\t3\t]\t,\n",
    "[\t4\t,\t4\t]\t,\n",
    "[\t5\t,\t5\t]])"
   ]
  },
  {
   "cell_type": "code",
   "execution_count": 21,
   "metadata": {},
   "outputs": [],
   "source": [
    "output_data = np.array([[\t2\t],\n",
    "[\t4\t],\n",
    "[\t6\t],\n",
    "[\t8\t],\n",
    "[\t10\t]])"
   ]
  },
  {
   "cell_type": "code",
   "execution_count": 22,
   "metadata": {},
   "outputs": [
    {
     "name": "stdout",
     "output_type": "stream",
     "text": [
      "Model: \"sequential_1\"\n",
      "_________________________________________________________________\n",
      "Layer (type)                 Output Shape              Param #   \n",
      "=================================================================\n",
      "dense_2 (Dense)              (None, 1024)              3072      \n",
      "_________________________________________________________________\n",
      "dense_3 (Dense)              (None, 1)                 1025      \n",
      "=================================================================\n",
      "Total params: 4,097\n",
      "Trainable params: 4,097\n",
      "Non-trainable params: 0\n",
      "_________________________________________________________________\n"
     ]
    }
   ],
   "source": [
    "addition_model = Sequential()\n",
    "addition_model.add(Dense(1024,input_dim=2,activation=\"linear\"))\n",
    "addition_model.add(Dense(1,activation=\"linear\"))\n",
    "addition_model.summary()"
   ]
  },
  {
   "cell_type": "code",
   "execution_count": 23,
   "metadata": {},
   "outputs": [
    {
     "name": "stdout",
     "output_type": "stream",
     "text": [
      "Train on 5 samples\n",
      "Epoch 1/100\n",
      "5/5 [==============================] - 0s 32ms/sample - loss: 22.3823 - mean_absolute_error: 4.1904\n",
      "Epoch 2/100\n",
      "5/5 [==============================] - 0s 1ms/sample - loss: 2.2342 - mean_absolute_error: 1.2716\n",
      "Epoch 3/100\n",
      "5/5 [==============================] - 0s 1ms/sample - loss: 0.1809 - mean_absolute_error: 0.3171\n",
      "Epoch 4/100\n",
      "5/5 [==============================] - 0s 1ms/sample - loss: 0.0180 - mean_absolute_error: 0.1095\n",
      "Epoch 5/100\n",
      "5/5 [==============================] - 0s 1ms/sample - loss: 0.0079 - mean_absolute_error: 0.0743\n",
      "Epoch 6/100\n",
      "5/5 [==============================] - 0s 1ms/sample - loss: 0.0076 - mean_absolute_error: 0.0783\n",
      "Epoch 7/100\n",
      "5/5 [==============================] - 0s 1ms/sample - loss: 0.0076 - mean_absolute_error: 0.0756\n",
      "Epoch 8/100\n",
      "5/5 [==============================] - 0s 1ms/sample - loss: 0.0072 - mean_absolute_error: 0.0758\n",
      "Epoch 9/100\n",
      "5/5 [==============================] - 0s 1ms/sample - loss: 0.0071 - mean_absolute_error: 0.0737\n",
      "Epoch 10/100\n",
      "5/5 [==============================] - 0s 1ms/sample - loss: 0.0069 - mean_absolute_error: 0.0702\n",
      "Epoch 11/100\n",
      "5/5 [==============================] - 0s 1ms/sample - loss: 0.0069 - mean_absolute_error: 0.0696\n",
      "Epoch 12/100\n",
      "5/5 [==============================] - 0s 1ms/sample - loss: 0.0071 - mean_absolute_error: 0.0744\n",
      "Epoch 13/100\n",
      "5/5 [==============================] - 0s 1ms/sample - loss: 0.0069 - mean_absolute_error: 0.0690\n",
      "Epoch 14/100\n",
      "5/5 [==============================] - 0s 1ms/sample - loss: 0.0066 - mean_absolute_error: 0.0704\n",
      "Epoch 15/100\n",
      "5/5 [==============================] - 0s 1ms/sample - loss: 0.0066 - mean_absolute_error: 0.0683\n",
      "Epoch 16/100\n",
      "5/5 [==============================] - 0s 1ms/sample - loss: 0.0066 - mean_absolute_error: 0.0732\n",
      "Epoch 17/100\n",
      "5/5 [==============================] - 0s 1ms/sample - loss: 0.0065 - mean_absolute_error: 0.0706\n",
      "Epoch 18/100\n",
      "5/5 [==============================] - 0s 1ms/sample - loss: 0.0064 - mean_absolute_error: 0.0703\n",
      "Epoch 19/100\n",
      "5/5 [==============================] - 0s 1ms/sample - loss: 0.0062 - mean_absolute_error: 0.0670\n",
      "Epoch 20/100\n",
      "5/5 [==============================] - 0s 1ms/sample - loss: 0.0063 - mean_absolute_error: 0.0692\n",
      "Epoch 21/100\n",
      "5/5 [==============================] - 0s 1ms/sample - loss: 0.0062 - mean_absolute_error: 0.0649\n",
      "Epoch 22/100\n",
      "5/5 [==============================] - 0s 1ms/sample - loss: 0.0060 - mean_absolute_error: 0.0672\n",
      "Epoch 23/100\n",
      "5/5 [==============================] - 0s 1ms/sample - loss: 0.0058 - mean_absolute_error: 0.0649\n",
      "Epoch 24/100\n",
      "5/5 [==============================] - 0s 1ms/sample - loss: 0.0060 - mean_absolute_error: 0.0663\n",
      "Epoch 25/100\n",
      "5/5 [==============================] - 0s 1ms/sample - loss: 0.0059 - mean_absolute_error: 0.0650\n",
      "Epoch 26/100\n",
      "5/5 [==============================] - 0s 1ms/sample - loss: 0.0057 - mean_absolute_error: 0.0639\n",
      "Epoch 27/100\n",
      "5/5 [==============================] - 0s 1ms/sample - loss: 0.0057 - mean_absolute_error: 0.0634\n",
      "Epoch 28/100\n",
      "5/5 [==============================] - 0s 1ms/sample - loss: 0.0057 - mean_absolute_error: 0.0633\n",
      "Epoch 29/100\n",
      "5/5 [==============================] - 0s 1ms/sample - loss: 0.0055 - mean_absolute_error: 0.0628\n",
      "Epoch 30/100\n",
      "5/5 [==============================] - 0s 1ms/sample - loss: 0.0055 - mean_absolute_error: 0.0628\n",
      "Epoch 31/100\n",
      "5/5 [==============================] - 0s 1ms/sample - loss: 0.0054 - mean_absolute_error: 0.0626\n",
      "Epoch 32/100\n",
      "5/5 [==============================] - 0s 1ms/sample - loss: 0.0053 - mean_absolute_error: 0.0630\n",
      "Epoch 33/100\n",
      "5/5 [==============================] - 0s 1ms/sample - loss: 0.0052 - mean_absolute_error: 0.0624\n",
      "Epoch 34/100\n",
      "5/5 [==============================] - 0s 1ms/sample - loss: 0.0052 - mean_absolute_error: 0.0639\n",
      "Epoch 35/100\n",
      "5/5 [==============================] - 0s 1ms/sample - loss: 0.0050 - mean_absolute_error: 0.0632\n",
      "Epoch 36/100\n",
      "5/5 [==============================] - 0s 1ms/sample - loss: 0.0048 - mean_absolute_error: 0.0563\n",
      "Epoch 37/100\n",
      "5/5 [==============================] - 0s 1ms/sample - loss: 0.0050 - mean_absolute_error: 0.0618\n",
      "Epoch 38/100\n",
      "5/5 [==============================] - 0s 1ms/sample - loss: 0.0049 - mean_absolute_error: 0.0593\n",
      "Epoch 39/100\n",
      "5/5 [==============================] - 0s 1ms/sample - loss: 0.0046 - mean_absolute_error: 0.0564\n",
      "Epoch 40/100\n",
      "5/5 [==============================] - 0s 1ms/sample - loss: 0.0048 - mean_absolute_error: 0.0608\n",
      "Epoch 41/100\n",
      "5/5 [==============================] - 0s 1ms/sample - loss: 0.0046 - mean_absolute_error: 0.0589\n",
      "Epoch 42/100\n",
      "5/5 [==============================] - 0s 1ms/sample - loss: 0.0045 - mean_absolute_error: 0.0543\n",
      "Epoch 43/100\n",
      "5/5 [==============================] - 0s 1ms/sample - loss: 0.0046 - mean_absolute_error: 0.0546\n",
      "Epoch 44/100\n",
      "5/5 [==============================] - 0s 1ms/sample - loss: 0.0044 - mean_absolute_error: 0.0531\n",
      "Epoch 45/100\n",
      "5/5 [==============================] - 0s 1ms/sample - loss: 0.0046 - mean_absolute_error: 0.0590\n",
      "Epoch 46/100\n",
      "5/5 [==============================] - 0s 1ms/sample - loss: 0.0044 - mean_absolute_error: 0.0548\n",
      "Epoch 47/100\n",
      "5/5 [==============================] - 0s 1ms/sample - loss: 0.0044 - mean_absolute_error: 0.0561\n",
      "Epoch 48/100\n",
      "5/5 [==============================] - 0s 1ms/sample - loss: 0.0043 - mean_absolute_error: 0.0559\n",
      "Epoch 49/100\n",
      "5/5 [==============================] - 0s 1ms/sample - loss: 0.0043 - mean_absolute_error: 0.0555\n",
      "Epoch 50/100\n",
      "5/5 [==============================] - 0s 1ms/sample - loss: 0.0042 - mean_absolute_error: 0.0538\n",
      "Epoch 51/100\n",
      "5/5 [==============================] - 0s 1ms/sample - loss: 0.0042 - mean_absolute_error: 0.0562\n",
      "Epoch 52/100\n",
      "5/5 [==============================] - 0s 1ms/sample - loss: 0.0041 - mean_absolute_error: 0.0547\n",
      "Epoch 53/100\n",
      "5/5 [==============================] - 0s 1ms/sample - loss: 0.0041 - mean_absolute_error: 0.0577\n",
      "Epoch 54/100\n",
      "5/5 [==============================] - 0s 1ms/sample - loss: 0.0041 - mean_absolute_error: 0.0550\n",
      "Epoch 55/100\n",
      "5/5 [==============================] - 0s 1ms/sample - loss: 0.0040 - mean_absolute_error: 0.0540\n",
      "Epoch 56/100\n",
      "5/5 [==============================] - 0s 1ms/sample - loss: 0.0038 - mean_absolute_error: 0.0545\n",
      "Epoch 57/100\n",
      "5/5 [==============================] - 0s 1ms/sample - loss: 0.0038 - mean_absolute_error: 0.0495\n",
      "Epoch 58/100\n",
      "5/5 [==============================] - 0s 1ms/sample - loss: 0.0039 - mean_absolute_error: 0.0534\n",
      "Epoch 59/100\n",
      "5/5 [==============================] - 0s 1ms/sample - loss: 0.0038 - mean_absolute_error: 0.0542\n",
      "Epoch 60/100\n",
      "5/5 [==============================] - 0s 1ms/sample - loss: 0.0036 - mean_absolute_error: 0.0529\n",
      "Epoch 61/100\n",
      "5/5 [==============================] - 0s 1ms/sample - loss: 0.0036 - mean_absolute_error: 0.0519\n",
      "Epoch 62/100\n",
      "5/5 [==============================] - 0s 1ms/sample - loss: 0.0037 - mean_absolute_error: 0.0526\n",
      "Epoch 63/100\n",
      "5/5 [==============================] - 0s 1ms/sample - loss: 0.0036 - mean_absolute_error: 0.0507\n",
      "Epoch 64/100\n",
      "5/5 [==============================] - 0s 1ms/sample - loss: 0.0035 - mean_absolute_error: 0.0509\n",
      "Epoch 65/100\n",
      "5/5 [==============================] - 0s 1ms/sample - loss: 0.0034 - mean_absolute_error: 0.0529\n",
      "Epoch 66/100\n",
      "5/5 [==============================] - 0s 1ms/sample - loss: 0.0035 - mean_absolute_error: 0.0489\n",
      "Epoch 67/100\n",
      "5/5 [==============================] - 0s 1ms/sample - loss: 0.0033 - mean_absolute_error: 0.0492\n",
      "Epoch 68/100\n",
      "5/5 [==============================] - 0s 1ms/sample - loss: 0.0033 - mean_absolute_error: 0.0500\n",
      "Epoch 69/100\n",
      "5/5 [==============================] - 0s 1ms/sample - loss: 0.0034 - mean_absolute_error: 0.0500\n",
      "Epoch 70/100\n",
      "5/5 [==============================] - 0s 1ms/sample - loss: 0.0031 - mean_absolute_error: 0.0463\n",
      "Epoch 71/100\n",
      "5/5 [==============================] - 0s 1ms/sample - loss: 0.0032 - mean_absolute_error: 0.0496\n",
      "Epoch 72/100\n",
      "5/5 [==============================] - 0s 1ms/sample - loss: 0.0032 - mean_absolute_error: 0.0492\n",
      "Epoch 73/100\n",
      "5/5 [==============================] - 0s 1ms/sample - loss: 0.0032 - mean_absolute_error: 0.0476\n",
      "Epoch 74/100\n"
     ]
    },
    {
     "name": "stdout",
     "output_type": "stream",
     "text": [
      "5/5 [==============================] - 0s 1ms/sample - loss: 0.0031 - mean_absolute_error: 0.0461\n",
      "Epoch 75/100\n",
      "5/5 [==============================] - 0s 1ms/sample - loss: 0.0030 - mean_absolute_error: 0.0501\n",
      "Epoch 76/100\n",
      "5/5 [==============================] - 0s 1ms/sample - loss: 0.0031 - mean_absolute_error: 0.0471\n",
      "Epoch 77/100\n",
      "5/5 [==============================] - 0s 1ms/sample - loss: 0.0030 - mean_absolute_error: 0.0475\n",
      "Epoch 78/100\n",
      "5/5 [==============================] - 0s 1ms/sample - loss: 0.0029 - mean_absolute_error: 0.0456\n",
      "Epoch 79/100\n",
      "5/5 [==============================] - 0s 1ms/sample - loss: 0.0029 - mean_absolute_error: 0.0465\n",
      "Epoch 80/100\n",
      "5/5 [==============================] - 0s 1ms/sample - loss: 0.0028 - mean_absolute_error: 0.0446\n",
      "Epoch 81/100\n",
      "5/5 [==============================] - 0s 1ms/sample - loss: 0.0028 - mean_absolute_error: 0.0467\n",
      "Epoch 82/100\n",
      "5/5 [==============================] - 0s 1ms/sample - loss: 0.0028 - mean_absolute_error: 0.0440\n",
      "Epoch 83/100\n",
      "5/5 [==============================] - 0s 1ms/sample - loss: 0.0027 - mean_absolute_error: 0.0437\n",
      "Epoch 84/100\n",
      "5/5 [==============================] - 0s 1ms/sample - loss: 0.0027 - mean_absolute_error: 0.0443\n",
      "Epoch 85/100\n",
      "5/5 [==============================] - 0s 1ms/sample - loss: 0.0027 - mean_absolute_error: 0.0465\n",
      "Epoch 86/100\n",
      "5/5 [==============================] - 0s 1ms/sample - loss: 0.0027 - mean_absolute_error: 0.0462\n",
      "Epoch 87/100\n",
      "5/5 [==============================] - 0s 1ms/sample - loss: 0.0026 - mean_absolute_error: 0.0454\n",
      "Epoch 88/100\n",
      "5/5 [==============================] - 0s 1ms/sample - loss: 0.0026 - mean_absolute_error: 0.0453\n",
      "Epoch 89/100\n",
      "5/5 [==============================] - 0s 1ms/sample - loss: 0.0025 - mean_absolute_error: 0.0426\n",
      "Epoch 90/100\n",
      "5/5 [==============================] - 0s 1ms/sample - loss: 0.0026 - mean_absolute_error: 0.0428\n",
      "Epoch 91/100\n",
      "5/5 [==============================] - 0s 1ms/sample - loss: 0.0025 - mean_absolute_error: 0.0411\n",
      "Epoch 92/100\n",
      "5/5 [==============================] - 0s 1ms/sample - loss: 0.0025 - mean_absolute_error: 0.0431\n",
      "Epoch 93/100\n",
      "5/5 [==============================] - 0s 1ms/sample - loss: 0.0025 - mean_absolute_error: 0.0430\n",
      "Epoch 94/100\n",
      "5/5 [==============================] - 0s 1ms/sample - loss: 0.0024 - mean_absolute_error: 0.0420\n",
      "Epoch 95/100\n",
      "5/5 [==============================] - 0s 1ms/sample - loss: 0.0023 - mean_absolute_error: 0.0425\n",
      "Epoch 96/100\n",
      "5/5 [==============================] - 0s 1ms/sample - loss: 0.0023 - mean_absolute_error: 0.0433\n",
      "Epoch 97/100\n",
      "5/5 [==============================] - 0s 1ms/sample - loss: 0.0023 - mean_absolute_error: 0.0395\n",
      "Epoch 98/100\n",
      "5/5 [==============================] - 0s 1ms/sample - loss: 0.0023 - mean_absolute_error: 0.0418\n",
      "Epoch 99/100\n",
      "5/5 [==============================] - 0s 1ms/sample - loss: 0.0023 - mean_absolute_error: 0.0409\n",
      "Epoch 100/100\n",
      "5/5 [==============================] - 0s 1ms/sample - loss: 0.0022 - mean_absolute_error: 0.0411\n"
     ]
    },
    {
     "data": {
      "text/plain": [
       "<tensorflow.python.keras.callbacks.History at 0x1478d9080>"
      ]
     },
     "execution_count": 23,
     "metadata": {},
     "output_type": "execute_result"
    }
   ],
   "source": [
    "sgd = SGD(lr=0.001)\n",
    "addition_model.compile(loss=\"mean_squared_error\", optimizer=sgd,metrics=[tf.keras.metrics.mae])\n",
    "addition_model.fit(input_data, output_data, batch_size=1, epochs=100, verbose=1)"
   ]
  },
  {
   "cell_type": "code",
   "execution_count": 24,
   "metadata": {},
   "outputs": [],
   "source": [
    "# Modell wird gespeichert\n",
    "addition_model.save(\"addition_model.h5\")"
   ]
  },
  {
   "cell_type": "code",
   "execution_count": 25,
   "metadata": {},
   "outputs": [
    {
     "name": "stdout",
     "output_type": "stream",
     "text": [
      "[<tf.Tensor 'dense_2_input:0' shape=(None, 2) dtype=float32>]\n"
     ]
    }
   ],
   "source": [
    "print(addition_model.inputs)"
   ]
  },
  {
   "cell_type": "code",
   "execution_count": 26,
   "metadata": {},
   "outputs": [
    {
     "name": "stdout",
     "output_type": "stream",
     "text": [
      "INFO:tensorflow:Assets written to: addition_model/assets\n"
     ]
    }
   ],
   "source": [
    "# Als SavedModel\n",
    "tf.saved_model.save(addition_model,\"addition_model\")"
   ]
  },
  {
   "cell_type": "markdown",
   "metadata": {},
   "source": [
    "Und auch für TensorFlow.js!\n",
    "tfjs.converters.save_keras_model(addition_model, \"./addition_model\")"
   ]
  },
  {
   "cell_type": "code",
   "execution_count": 27,
   "metadata": {},
   "outputs": [
    {
     "name": "stdout",
     "output_type": "stream",
     "text": [
      "== Modell als JSON-Struktur ==\n",
      "('{\"class_name\": \"Sequential\", \"config\": {\"name\": \"sequential_1\", \"layers\": '\n",
      " '[{\"class_name\": \"Dense\", \"config\": {\"name\": \"dense_2\", \"trainable\": true, '\n",
      " '\"batch_input_shape\": [null, 2], \"dtype\": \"float32\", \"units\": 1024, '\n",
      " '\"activation\": \"linear\", \"use_bias\": true, \"kernel_initializer\": '\n",
      " '{\"class_name\": \"GlorotUniform\", \"config\": {\"seed\": null}}, '\n",
      " '\"bias_initializer\": {\"class_name\": \"Zeros\", \"config\": {}}, '\n",
      " '\"kernel_regularizer\": null, \"bias_regularizer\": null, '\n",
      " '\"activity_regularizer\": null, \"kernel_constraint\": null, \"bias_constraint\": '\n",
      " 'null}}, {\"class_name\": \"Dense\", \"config\": {\"name\": \"dense_3\", \"trainable\": '\n",
      " 'true, \"dtype\": \"float32\", \"units\": 1, \"activation\": \"linear\", \"use_bias\": '\n",
      " 'true, \"kernel_initializer\": {\"class_name\": \"GlorotUniform\", \"config\": '\n",
      " '{\"seed\": null}}, \"bias_initializer\": {\"class_name\": \"Zeros\", \"config\": {}}, '\n",
      " '\"kernel_regularizer\": null, \"bias_regularizer\": null, '\n",
      " '\"activity_regularizer\": null, \"kernel_constraint\": null, \"bias_constraint\": '\n",
      " 'null}}]}, \"keras_version\": \"2.2.4-tf\", \"backend\": \"tensorflow\"}')\n"
     ]
    }
   ],
   "source": [
    "print(\"== Modell als JSON-Struktur ==\")\n",
    "pprint(addition_model.to_json())"
   ]
  },
  {
   "cell_type": "code",
   "execution_count": 28,
   "metadata": {},
   "outputs": [
    {
     "name": "stdout",
     "output_type": "stream",
     "text": [
      "'== Modell als YAML-Struktur =='\n",
      "('backend: tensorflow\\n'\n",
      " 'class_name: Sequential\\n'\n",
      " 'config:\\n'\n",
      " '  layers:\\n'\n",
      " '  - class_name: Dense\\n'\n",
      " '    config:\\n'\n",
      " '      activation: linear\\n'\n",
      " '      activity_regularizer: null\\n'\n",
      " '      batch_input_shape: !!python/tuple\\n'\n",
      " '      - null\\n'\n",
      " '      - 2\\n'\n",
      " '      bias_constraint: null\\n'\n",
      " '      bias_initializer:\\n'\n",
      " '        class_name: Zeros\\n'\n",
      " '        config: {}\\n'\n",
      " '      bias_regularizer: null\\n'\n",
      " '      dtype: float32\\n'\n",
      " '      kernel_constraint: null\\n'\n",
      " '      kernel_initializer:\\n'\n",
      " '        class_name: GlorotUniform\\n'\n",
      " '        config:\\n'\n",
      " '          seed: null\\n'\n",
      " '      kernel_regularizer: null\\n'\n",
      " '      name: dense_2\\n'\n",
      " '      trainable: true\\n'\n",
      " '      units: 1024\\n'\n",
      " '      use_bias: true\\n'\n",
      " '  - class_name: Dense\\n'\n",
      " '    config:\\n'\n",
      " '      activation: linear\\n'\n",
      " '      activity_regularizer: null\\n'\n",
      " '      bias_constraint: null\\n'\n",
      " '      bias_initializer:\\n'\n",
      " '        class_name: Zeros\\n'\n",
      " '        config: {}\\n'\n",
      " '      bias_regularizer: null\\n'\n",
      " '      dtype: float32\\n'\n",
      " '      kernel_constraint: null\\n'\n",
      " '      kernel_initializer:\\n'\n",
      " '        class_name: GlorotUniform\\n'\n",
      " '        config:\\n'\n",
      " '          seed: null\\n'\n",
      " '      kernel_regularizer: null\\n'\n",
      " '      name: dense_3\\n'\n",
      " '      trainable: true\\n'\n",
      " '      units: 1\\n'\n",
      " '      use_bias: true\\n'\n",
      " '  name: sequential_1\\n'\n",
      " 'keras_version: 2.2.4-tf\\n')\n"
     ]
    }
   ],
   "source": [
    "pprint(\"== Modell als YAML-Struktur ==\")\n",
    "pprint(addition_model.to_yaml())"
   ]
  },
  {
   "cell_type": "code",
   "execution_count": 29,
   "metadata": {},
   "outputs": [],
   "source": [
    "# Weights werden gespeichert\n",
    "addition_model.save_weights(\"addition_weights.h5\")"
   ]
  },
  {
   "cell_type": "code",
   "execution_count": 30,
   "metadata": {},
   "outputs": [],
   "source": [
    "# Struktur des Modells wird als JSON gespeichert\n",
    "json_str = addition_model.to_json()\n",
    "yaml_str = addition_model.to_yaml()"
   ]
  },
  {
   "cell_type": "code",
   "execution_count": 31,
   "metadata": {},
   "outputs": [],
   "source": [
    "with open(\"addition_model.json\", \"w\") as json_file:\n",
    "    json_file.write(json_str)"
   ]
  },
  {
   "cell_type": "code",
   "execution_count": 32,
   "metadata": {},
   "outputs": [],
   "source": [
    "with open(\"addition_model.yaml\", \"w\") as yaml_file:\n",
    "    yaml_file.write(json_str)"
   ]
  },
  {
   "cell_type": "code",
   "execution_count": null,
   "metadata": {},
   "outputs": [],
   "source": []
  },
  {
   "cell_type": "code",
   "execution_count": 33,
   "metadata": {},
   "outputs": [
    {
     "name": "stdout",
     "output_type": "stream",
     "text": [
      "'Ergebnis: [[9.969745]]'\n"
     ]
    }
   ],
   "source": [
    "# Modell wird neu geladen (vom .h5 Datei)\n",
    "model = load_model('addition_model.h5')\n",
    "result = model.predict([[5,5]]) # Das Ergebnis müsste ungefähr bei 10 liegen\n",
    "pprint(\"Ergebnis: {}\".format(result))\n",
    "del model"
   ]
  },
  {
   "cell_type": "code",
   "execution_count": 34,
   "metadata": {},
   "outputs": [
    {
     "name": "stdout",
     "output_type": "stream",
     "text": [
      "----------\n"
     ]
    }
   ],
   "source": [
    "print(\"----------\")"
   ]
  },
  {
   "cell_type": "markdown",
   "metadata": {},
   "source": [
    "Modell wird mit der YAML-Datei geladen"
   ]
  },
  {
   "cell_type": "code",
   "execution_count": 35,
   "metadata": {
    "lines_to_next_cell": 2
   },
   "outputs": [
    {
     "name": "stdout",
     "output_type": "stream",
     "text": [
      "'Ergebnis: [[12.892096]]'\n"
     ]
    },
    {
     "name": "stderr",
     "output_type": "stream",
     "text": [
      "/Users/matthieuderu/anaconda3/lib/python3.7/site-packages/tensorflow_core/python/keras/saving/model_config.py:76: YAMLLoadWarning: calling yaml.load() without Loader=... is deprecated, as the default Loader is unsafe. Please read https://msg.pyyaml.org/load for full details.\n",
      "  config = yaml.load(yaml_string)\n"
     ]
    }
   ],
   "source": [
    "with open(\"addition_model.yaml\",\"r\") as f:\n",
    "    yaml_file_content = f.read()\n",
    "model = model_from_yaml(yaml_file_content) #,Loader=yaml.FullLoader)\n",
    "model.load_weights(\"addition_weights.h5\")\n",
    "result = model.predict([[3,10]]) # Das Ergebnis müsste ungefähr bei 13 liegen\n",
    "pprint(\"Ergebnis: {}\".format(result)) "
   ]
  },
  {
   "cell_type": "code",
   "execution_count": 36,
   "metadata": {},
   "outputs": [],
   "source": [
    "del model"
   ]
  },
  {
   "cell_type": "code",
   "execution_count": 37,
   "metadata": {},
   "outputs": [
    {
     "name": "stdout",
     "output_type": "stream",
     "text": [
      "'Ergebnis: [[5.020541]]'\n"
     ]
    }
   ],
   "source": [
    "# Modell wird mit der Kombination JSON und weights geladen\n",
    "with open('addition_model.json',\"r\") as f:\n",
    "    json_file_content = f.read()\n",
    "model = model_from_json(json_file_content) # bzw. model = model_from_yaml(json_file_content)\n",
    "model.load_weights('addition_weights.h5')\n",
    "result = model.predict([[1,4]]) # Das Ergebnis müsste ungefähr bei 5 liegen\n",
    "pprint(\"Ergebnis: {}\".format(result)) "
   ]
  },
  {
   "cell_type": "code",
   "execution_count": 38,
   "metadata": {},
   "outputs": [],
   "source": [
    "del model"
   ]
  },
  {
   "cell_type": "code",
   "execution_count": 39,
   "metadata": {},
   "outputs": [],
   "source": [
    "# Modell wird mit tf.saved_model geladen und benutzt\n",
    "#load_model(\"./addition_model\")\n",
    "model = tf.saved_model.load(\"./addition_model\")"
   ]
  }
 ],
 "metadata": {
  "jupytext": {
   "cell_metadata_filter": "-all",
   "main_language": "python",
   "notebook_metadata_filter": "-all"
  },
  "kernelspec": {
   "display_name": "Python 3",
   "language": "python",
   "name": "python3"
  },
  "language_info": {
   "codemirror_mode": {
    "name": "ipython",
    "version": 3
   },
   "file_extension": ".py",
   "mimetype": "text/x-python",
   "name": "python",
   "nbconvert_exporter": "python",
   "pygments_lexer": "ipython3",
   "version": "3.7.3"
  }
 },
 "nbformat": 4,
 "nbformat_minor": 2
}
