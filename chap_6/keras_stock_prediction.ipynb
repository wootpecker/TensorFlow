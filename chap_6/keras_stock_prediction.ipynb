{
 "cells": [
  {
   "cell_type": "markdown",
   "metadata": {},
   "source": [
    "\n",
    "Vorhersage von einem Aktienkurs mit Keras und LSTMs in TensorFlow 2\n"
   ]
  },
  {
   "cell_type": "code",
   "execution_count": 23,
   "metadata": {},
   "outputs": [],
   "source": [
    "import tensorflow as tf\n",
    "import numpy as np\n",
    "import matplotlib\n",
    "%matplotlib notebook\n",
    "import matplotlib.pyplot as plt\n",
    "import os\n",
    "import math"
   ]
  },
  {
   "cell_type": "code",
   "execution_count": 24,
   "metadata": {},
   "outputs": [],
   "source": [
    "from tensorflow.keras.models import load_model, Sequential\n",
    "from tensorflow.keras.layers import Conv2D, MaxPool2D, Flatten, Dense, LSTM\n",
    "from tensorflow.keras.utils import to_categorical\n",
    "from tensorflow.keras.optimizers import SGD\n",
    "from sklearn.preprocessing import MinMaxScaler\n",
    "from sklearn.model_selection import train_test_split\n",
    "from sklearn.metrics import mean_squared_error"
   ]
  },
  {
   "cell_type": "code",
   "execution_count": 25,
   "metadata": {},
   "outputs": [],
   "source": [
    "matplotlib.use('TkAgg')"
   ]
  },
  {
   "cell_type": "markdown",
   "metadata": {},
   "source": [
    "Quelle: https://www.macrotrends.net/stocks/charts/TSLA/tesla/stock-price-history\n",
    "Spalten:\n",
    "'date' 'open' 'high' 'low' 'close' 'volume'"
   ]
  },
  {
   "cell_type": "code",
   "execution_count": 26,
   "metadata": {},
   "outputs": [],
   "source": [
    "CSV_FILE  = \"data/tsla.csv\" \n",
    "DAYS_BEFORE = 20 # Anzahl der Tage in der Vergangenheit, die betrachtet werden müssen"
   ]
  },
  {
   "cell_type": "code",
   "execution_count": 27,
   "metadata": {},
   "outputs": [],
   "source": [
    "initial_stock_data = np.loadtxt(CSV_FILE,delimiter=\",\",skiprows=9,usecols=(4),comments=\"#\",dtype=float)\n",
    "initial_stock_data = np.array(initial_stock_data,dtype=\"float\").reshape(-1,1) # Wir nehmen nur die Spalte (4) \"close\""
   ]
  },
  {
   "cell_type": "code",
   "execution_count": 28,
   "metadata": {
    "lines_to_next_cell": 1
   },
   "outputs": [],
   "source": [
    "# Normalisierung der Werte\n",
    "min_max_scaler = MinMaxScaler(feature_range=(0,1))\n",
    "stock_data = min_max_scaler.fit_transform(initial_stock_data)"
   ]
  },
  {
   "cell_type": "code",
   "execution_count": 29,
   "metadata": {},
   "outputs": [],
   "source": [
    "# Reorganisiert die Daten\n",
    "def arrange_data(data, days):\n",
    "    days_before_values = [] # T- days\n",
    "    days_values = []  # T\n",
    "    for i in range(len(data) - days -1):\n",
    "        days_before_values.append(data[i:(i+days)]) \n",
    "        days_values.append(data[i + days]) \n",
    "    return np.array(days_before_values),np.array(days_values)"
   ]
  },
  {
   "cell_type": "code",
   "execution_count": 30,
   "metadata": {
    "lines_to_next_cell": 1
   },
   "outputs": [],
   "source": [
    "def split_to_percentage(data,percentage):\n",
    "    return  data[0: int(len(data)*percentage)] , data[int(len(data)*percentage):]"
   ]
  },
  {
   "cell_type": "code",
   "execution_count": 31,
   "metadata": {},
   "outputs": [],
   "source": [
    "days_before_values, days_values =  arrange_data(stock_data,DAYS_BEFORE)\n",
    "days_before_values = days_before_values.reshape((days_before_values.shape[0],DAYS_BEFORE,1))"
   ]
  },
  {
   "cell_type": "markdown",
   "metadata": {},
   "source": [
    "Wir nehmen nur ein Teil des Datasets, um das Training durchzuführen\n",
    "Der Rest (X_test und Y_test) wird für die \"virtuelle\" Prognose benutzt "
   ]
  },
  {
   "cell_type": "code",
   "execution_count": 32,
   "metadata": {},
   "outputs": [],
   "source": [
    "# Splitting des Datasets\n",
    "X_train, X_test = split_to_percentage(days_before_values,0.8) #  80% Training\n",
    "Y_train, Y_test = split_to_percentage(days_values,0.8) # 20% Test"
   ]
  },
  {
   "cell_type": "code",
   "execution_count": 33,
   "metadata": {},
   "outputs": [],
   "source": [
    "# Definition des Keras Modells\n",
    "stock_model = Sequential()\n",
    "stock_model.add(LSTM(10,input_shape=(DAYS_BEFORE,1),return_sequences=True))\n",
    "stock_model.add(LSTM(5,activation=\"relu\"))\n",
    "return_sequences=True"
   ]
  },
  {
   "cell_type": "code",
   "execution_count": 34,
   "metadata": {},
   "outputs": [],
   "source": [
    "stock_model.add(Dense(1))"
   ]
  },
  {
   "cell_type": "code",
   "execution_count": 35,
   "metadata": {},
   "outputs": [],
   "source": [
    "sgd = SGD(lr=0.01)"
   ]
  },
  {
   "cell_type": "code",
   "execution_count": null,
   "metadata": {},
   "outputs": [
    {
     "name": "stdout",
     "output_type": "stream",
     "text": [
      "Model: \"sequential_1\"\n",
      "_________________________________________________________________\n",
      "Layer (type)                 Output Shape              Param #   \n",
      "=================================================================\n",
      "lstm_2 (LSTM)                (None, 20, 10)            480       \n",
      "_________________________________________________________________\n",
      "lstm_3 (LSTM)                (None, 5)                 320       \n",
      "_________________________________________________________________\n",
      "dense_1 (Dense)              (None, 1)                 6         \n",
      "=================================================================\n",
      "Total params: 806\n",
      "Trainable params: 806\n",
      "Non-trainable params: 0\n",
      "_________________________________________________________________\n",
      "Train on 1662 samples\n",
      "Epoch 1/100\n",
      "1662/1662 [==============================] - 3s 2ms/sample - loss: 0.1118 - mean_squared_error: 0.1118\n",
      "Epoch 2/100\n",
      "1662/1662 [==============================] - 1s 685us/sample - loss: 0.0698 - mean_squared_error: 0.0698\n",
      "Epoch 3/100\n",
      "1662/1662 [==============================] - 1s 681us/sample - loss: 0.0654 - mean_squared_error: 0.0654\n",
      "Epoch 4/100\n",
      "1662/1662 [==============================] - 1s 686us/sample - loss: 0.0648 - mean_squared_error: 0.0648\n",
      "Epoch 5/100\n",
      "1662/1662 [==============================] - 1s 684us/sample - loss: 0.0647 - mean_squared_error: 0.0647\n",
      "Epoch 6/100\n",
      "1662/1662 [==============================] - 1s 681us/sample - loss: 0.0647 - mean_squared_error: 0.0647\n",
      "Epoch 7/100\n",
      "1662/1662 [==============================] - 1s 687us/sample - loss: 0.0647 - mean_squared_error: 0.0647\n",
      "Epoch 8/100\n",
      "1662/1662 [==============================] - 1s 682us/sample - loss: 0.0647 - mean_squared_error: 0.0647\n",
      "Epoch 9/100\n",
      "1662/1662 [==============================] - 1s 684us/sample - loss: 0.0647 - mean_squared_error: 0.0647\n",
      "Epoch 10/100\n",
      "1662/1662 [==============================] - 1s 680us/sample - loss: 0.0647 - mean_squared_error: 0.0647\n",
      "Epoch 11/100\n",
      "1662/1662 [==============================] - 1s 678us/sample - loss: 0.0647 - mean_squared_error: 0.0647\n",
      "Epoch 12/100\n",
      "1662/1662 [==============================] - 1s 679us/sample - loss: 0.0647 - mean_squared_error: 0.0647\n",
      "Epoch 13/100\n",
      "1662/1662 [==============================] - 1s 678us/sample - loss: 0.0647 - mean_squared_error: 0.0647\n",
      "Epoch 14/100\n",
      "1662/1662 [==============================] - 1s 676us/sample - loss: 0.0647 - mean_squared_error: 0.0647\n",
      "Epoch 15/100\n",
      "1662/1662 [==============================] - 1s 678us/sample - loss: 0.0647 - mean_squared_error: 0.0647\n",
      "Epoch 16/100\n",
      "1662/1662 [==============================] - 1s 680us/sample - loss: 0.0647 - mean_squared_error: 0.0647\n",
      "Epoch 17/100\n",
      "1662/1662 [==============================] - 1s 686us/sample - loss: 0.0647 - mean_squared_error: 0.0647\n",
      "Epoch 18/100\n",
      "1662/1662 [==============================] - 1s 683us/sample - loss: 0.0647 - mean_squared_error: 0.0647\n",
      "Epoch 19/100\n",
      "1662/1662 [==============================] - 1s 680us/sample - loss: 0.0647 - mean_squared_error: 0.0647\n",
      "Epoch 20/100\n",
      "1662/1662 [==============================] - 1s 679us/sample - loss: 0.0647 - mean_squared_error: 0.0647\n",
      "Epoch 21/100\n",
      "1662/1662 [==============================] - 1s 682us/sample - loss: 0.0647 - mean_squared_error: 0.0647\n",
      "Epoch 22/100\n",
      "1662/1662 [==============================] - 1s 681us/sample - loss: 0.0647 - mean_squared_error: 0.0647\n",
      "Epoch 23/100\n",
      "1662/1662 [==============================] - 1s 697us/sample - loss: 0.0647 - mean_squared_error: 0.0647\n",
      "Epoch 24/100\n",
      "1662/1662 [==============================] - 1s 684us/sample - loss: 0.0647 - mean_squared_error: 0.0647\n",
      "Epoch 25/100\n",
      "1662/1662 [==============================] - 1s 699us/sample - loss: 0.0647 - mean_squared_error: 0.0647\n",
      "Epoch 26/100\n",
      "1662/1662 [==============================] - 1s 699us/sample - loss: 0.0647 - mean_squared_error: 0.0647\n",
      "Epoch 27/100\n",
      "1662/1662 [==============================] - 1s 705us/sample - loss: 0.0647 - mean_squared_error: 0.0647\n",
      "Epoch 28/100\n",
      "1662/1662 [==============================] - 1s 699us/sample - loss: 0.0647 - mean_squared_error: 0.0647\n",
      "Epoch 29/100\n",
      "1662/1662 [==============================] - 1s 695us/sample - loss: 0.0647 - mean_squared_error: 0.0647\n",
      "Epoch 30/100\n",
      "1662/1662 [==============================] - 1s 754us/sample - loss: 0.0647 - mean_squared_error: 0.0647\n",
      "Epoch 31/100\n",
      "1662/1662 [==============================] - 1s 705us/sample - loss: 0.0647 - mean_squared_error: 0.0647\n",
      "Epoch 32/100\n",
      "1662/1662 [==============================] - 1s 708us/sample - loss: 0.0647 - mean_squared_error: 0.0647\n",
      "Epoch 33/100\n",
      "1662/1662 [==============================] - 1s 717us/sample - loss: 0.0647 - mean_squared_error: 0.0647\n",
      "Epoch 34/100\n",
      "1662/1662 [==============================] - 1s 704us/sample - loss: 0.0647 - mean_squared_error: 0.0647\n",
      "Epoch 35/100\n",
      "1662/1662 [==============================] - 1s 702us/sample - loss: 0.0647 - mean_squared_error: 0.0647\n",
      "Epoch 36/100\n",
      "1662/1662 [==============================] - 1s 693us/sample - loss: 0.0647 - mean_squared_error: 0.0647\n",
      "Epoch 37/100\n",
      "1662/1662 [==============================] - 1s 698us/sample - loss: 0.0647 - mean_squared_error: 0.0647\n",
      "Epoch 38/100\n",
      "1662/1662 [==============================] - 1s 712us/sample - loss: 0.0647 - mean_squared_error: 0.0647\n",
      "Epoch 39/100\n",
      "1662/1662 [==============================] - 1s 724us/sample - loss: 0.0647 - mean_squared_error: 0.0647\n",
      "Epoch 40/100\n",
      "1662/1662 [==============================] - 1s 696us/sample - loss: 0.0647 - mean_squared_error: 0.0647\n",
      "Epoch 41/100\n",
      "1662/1662 [==============================] - 1s 693us/sample - loss: 0.0647 - mean_squared_error: 0.0647\n",
      "Epoch 42/100\n",
      "1662/1662 [==============================] - 1s 694us/sample - loss: 0.0647 - mean_squared_error: 0.0647\n",
      "Epoch 43/100\n",
      "1662/1662 [==============================] - 1s 703us/sample - loss: 0.0647 - mean_squared_error: 0.0647\n",
      "Epoch 44/100\n",
      "1662/1662 [==============================] - 1s 690us/sample - loss: 0.0647 - mean_squared_error: 0.0647\n",
      "Epoch 45/100\n",
      "1662/1662 [==============================] - 1s 688us/sample - loss: 0.0647 - mean_squared_error: 0.0647\n",
      "Epoch 46/100\n",
      "1662/1662 [==============================] - 1s 693us/sample - loss: 0.0647 - mean_squared_error: 0.0647\n",
      "Epoch 47/100\n",
      "1662/1662 [==============================] - 1s 694us/sample - loss: 0.0647 - mean_squared_error: 0.0647\n",
      "Epoch 48/100\n",
      "1662/1662 [==============================] - 1s 689us/sample - loss: 0.0647 - mean_squared_error: 0.0647\n",
      "Epoch 49/100\n",
      "1662/1662 [==============================] - 1s 693us/sample - loss: 0.0647 - mean_squared_error: 0.0647\n",
      "Epoch 50/100\n",
      "1662/1662 [==============================] - 1s 687us/sample - loss: 0.0647 - mean_squared_error: 0.0647\n",
      "Epoch 51/100\n",
      "1662/1662 [==============================] - 1s 688us/sample - loss: 0.0647 - mean_squared_error: 0.0647\n",
      "Epoch 52/100\n",
      "1662/1662 [==============================] - 1s 686us/sample - loss: 0.0647 - mean_squared_error: 0.0647\n",
      "Epoch 53/100\n",
      "1662/1662 [==============================] - 1s 771us/sample - loss: 0.0647 - mean_squared_error: 0.0647\n",
      "Epoch 54/100\n",
      "1662/1662 [==============================] - 1s 709us/sample - loss: 0.0647 - mean_squared_error: 0.0647\n",
      "Epoch 55/100\n",
      "1662/1662 [==============================] - 1s 782us/sample - loss: 0.0647 - mean_squared_error: 0.0647\n",
      "Epoch 56/100\n",
      "1662/1662 [==============================] - 1s 780us/sample - loss: 0.0647 - mean_squared_error: 0.0647\n",
      "Epoch 57/100\n",
      "1662/1662 [==============================] - 1s 685us/sample - loss: 0.0647 - mean_squared_error: 0.0647\n",
      "Epoch 58/100\n",
      "1662/1662 [==============================] - 1s 672us/sample - loss: 0.0647 - mean_squared_error: 0.0647\n",
      "Epoch 59/100\n",
      "1662/1662 [==============================] - 1s 737us/sample - loss: 0.0647 - mean_squared_error: 0.0647\n",
      "Epoch 60/100\n",
      "1662/1662 [==============================] - 1s 697us/sample - loss: 0.0647 - mean_squared_error: 0.0647\n",
      "Epoch 61/100\n",
      "1662/1662 [==============================] - 1s 697us/sample - loss: 0.0647 - mean_squared_error: 0.0647\n",
      "Epoch 62/100\n",
      "1662/1662 [==============================] - 1s 691us/sample - loss: 0.0647 - mean_squared_error: 0.0647\n",
      "Epoch 63/100\n",
      "1662/1662 [==============================] - 1s 676us/sample - loss: 0.0647 - mean_squared_error: 0.0647\n",
      "Epoch 64/100\n"
     ]
    },
    {
     "name": "stdout",
     "output_type": "stream",
     "text": [
      "1662/1662 [==============================] - 1s 670us/sample - loss: 0.0647 - mean_squared_error: 0.0647\n",
      "Epoch 65/100\n",
      "1662/1662 [==============================] - 1s 672us/sample - loss: 0.0647 - mean_squared_error: 0.0647\n",
      "Epoch 66/100\n",
      "1662/1662 [==============================] - 1s 672us/sample - loss: 0.0647 - mean_squared_error: 0.0647\n",
      "Epoch 67/100\n",
      "1662/1662 [==============================] - 1s 664us/sample - loss: 0.0647 - mean_squared_error: 0.0647\n",
      "Epoch 68/100\n",
      "1662/1662 [==============================] - 1s 663us/sample - loss: 0.0647 - mean_squared_error: 0.0647\n",
      "Epoch 69/100\n",
      "1662/1662 [==============================] - 1s 669us/sample - loss: 0.0647 - mean_squared_error: 0.0647\n",
      "Epoch 70/100\n",
      " 224/1662 [===>..........................] - ETA: 0s - loss: 0.0615 - mean_squared_error: 0.0615"
     ]
    }
   ],
   "source": [
    "stock_model.summary()\n",
    "stock_model.compile(loss=\"mean_squared_error\", optimizer=sgd, metrics=[tf.keras.metrics.mse])\n",
    "stock_model.fit(X_train, Y_train, epochs=100, verbose=1)"
   ]
  },
  {
   "cell_type": "code",
   "execution_count": null,
   "metadata": {},
   "outputs": [],
   "source": [
    "# Das Modell wird gespeichert\n",
    "stock_model.save(\"keras_stock.h5\")"
   ]
  },
  {
   "cell_type": "code",
   "execution_count": null,
   "metadata": {},
   "outputs": [],
   "source": [
    "# Evaluation der Testdaten\n",
    "score, _ = stock_model.evaluate(X_test,Y_test)\n",
    "rmse = math.sqrt(score)\n",
    "print(\"RMSE {}\".format(rmse))"
   ]
  },
  {
   "cell_type": "code",
   "execution_count": null,
   "metadata": {},
   "outputs": [],
   "source": [
    "# Vorhersage mit den \"unbekannten\" Test-Dataset\n",
    "predictions_on_test = stock_model.predict(X_test)\n",
    "predictions_on_test = min_max_scaler.inverse_transform(predictions_on_test)"
   ]
  },
  {
   "cell_type": "code",
   "execution_count": null,
   "metadata": {},
   "outputs": [],
   "source": [
    "# ... und mit dem Trainings-Dataset\n",
    "predictions_on_training = stock_model.predict(X_train)\n",
    "predictions_on_training = min_max_scaler.inverse_transform(predictions_on_training)"
   ]
  },
  {
   "cell_type": "code",
   "execution_count": null,
   "metadata": {},
   "outputs": [],
   "source": [
    "# Wir shiften nach rechts, damit das Testergebnis grafisch direkt nach der Trainingskurve startet.\n",
    "shift = range(len(predictions_on_training)-1, len(stock_data) - 1 - DAYS_BEFORE - 1)"
   ]
  },
  {
   "cell_type": "code",
   "execution_count": null,
   "metadata": {},
   "outputs": [],
   "source": [
    "# Anzeige der Kurven mit matplotlib\n",
    "plt.plot(initial_stock_data, color=\"#CFCEC4\",label=\"Kurs\")\n",
    "plt.plot(predictions_on_training, label=\"Training\", color=\"green\")\n",
    "plt.plot(shift,predictions_on_test, label=\"Test\", color=\"red\", dashes=[6, 2])\n",
    "plt.legend(loc='upper left')\n",
    "plt.show()"
   ]
  },
  {
   "cell_type": "code",
   "execution_count": null,
   "metadata": {},
   "outputs": [],
   "source": []
  }
 ],
 "metadata": {
  "jupytext": {
   "cell_metadata_filter": "-all",
   "main_language": "python",
   "notebook_metadata_filter": "-all"
  },
  "kernelspec": {
   "display_name": "Python 3",
   "language": "python",
   "name": "python3"
  },
  "language_info": {
   "codemirror_mode": {
    "name": "ipython",
    "version": 3
   },
   "file_extension": ".py",
   "mimetype": "text/x-python",
   "name": "python",
   "nbconvert_exporter": "python",
   "pygments_lexer": "ipython3",
   "version": "3.7.3"
  }
 },
 "nbformat": 4,
 "nbformat_minor": 2
}
