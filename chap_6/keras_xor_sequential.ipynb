{
 "cells": [
  {
   "cell_type": "code",
   "execution_count": null,
   "metadata": {},
   "outputs": [],
   "source": [
    "#\n",
    "# XOR-Modell mit Keras Sequential API in TensorFlow 2.x\n",
    "#\n",
    "import tensorflow as tf\n",
    "import numpy as np\n",
    "from tensorflow import keras\n",
    "from tensorflow.keras.models import Sequential\n",
    "from tensorflow.keras.optimizers import SGD\n",
    "from tensorflow.keras.layers import Dense, Activation, Input\n",
    "from pprint import pprint"
   ]
  },
  {
   "cell_type": "code",
   "execution_count": null,
   "metadata": {},
   "outputs": [],
   "source": [
    "# Einfaches XOR mit Keras\n",
    "input_data = np.array([[0,0],[0,1],[1,0],[1,1]])\n",
    "output_data = np.array([[0],[1],[1],[0]])"
   ]
  },
  {
   "cell_type": "code",
   "execution_count": null,
   "metadata": {
    "lines_to_next_cell": 2
   },
   "outputs": [],
   "source": [
    "# Variante 1 mit Benennung der Schichten\n",
    "xor_model = Sequential()\n",
    "xor_model.add(Dense(1024, input_dim=2,name=\"First_Layer\"))\n",
    "xor_model.add(Activation('relu',name=\"Relu_Activation\"))\n",
    "xor_model.add(Dense(1,name=\"Dense_Layer\"))\n",
    "xor_model.add(Activation('sigmoid',name=\"Sigmoid_Activation\"))"
   ]
  },
  {
   "cell_type": "code",
   "execution_count": null,
   "metadata": {
    "lines_to_next_cell": 2
   },
   "outputs": [],
   "source": [
    "# Variante 2\n",
    "xor_model = Sequential()\n",
    "xor_model.add(Dense(1024,input_dim=2,activation=\"relu\"))\n",
    "xor_model.add(Dense(1,activation=\"sigmoid\"))"
   ]
  },
  {
   "cell_type": "code",
   "execution_count": null,
   "metadata": {},
   "outputs": [],
   "source": [
    "# Variante 3 als Array \n",
    "xor_model = Sequential([\n",
    "    Dense(1024, input_dim=2),\n",
    "    Activation('relu'),\n",
    "    Dense(1),\n",
    "    Activation('sigmoid')\n",
    "])"
   ]
  },
  {
   "cell_type": "code",
   "execution_count": null,
   "metadata": {},
   "outputs": [],
   "source": [
    "xor_model.summary()\n",
    "sgd = SGD(lr=0.01)"
   ]
  },
  {
   "cell_type": "code",
   "execution_count": null,
   "metadata": {},
   "outputs": [],
   "source": [
    "# Modell wird trainiert\n",
    "xor_model.compile(loss=tf.keras.losses.MSE, optimizer=sgd, metrics=[\"mae\"])\n",
    "xor_model.fit(input_data, output_data, batch_size=1, epochs=3000, verbose=1)"
   ]
  },
  {
   "cell_type": "code",
   "execution_count": null,
   "metadata": {},
   "outputs": [],
   "source": [
    "pprint(xor_model.predict(input_data))"
   ]
  }
 ],
 "metadata": {
  "jupytext": {
   "cell_metadata_filter": "-all",
   "main_language": "python",
   "notebook_metadata_filter": "-all"
  }
 },
 "nbformat": 4,
 "nbformat_minor": 2
}
