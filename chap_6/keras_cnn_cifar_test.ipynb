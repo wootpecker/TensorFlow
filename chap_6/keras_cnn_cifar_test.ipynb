{
 "cells": [
  {
   "cell_type": "markdown",
   "metadata": {},
   "source": [
    "\n",
    "Laden und Benutzung eines gespeicherten Modells mit Keras \n"
   ]
  },
  {
   "cell_type": "code",
   "execution_count": null,
   "metadata": {},
   "outputs": [],
   "source": [
    "import tensorflow as tf\n",
    "from tensorflow.keras.models import load_model, Sequential\n",
    "from tensorflow.keras.layers import Conv2D, MaxPool2D, Flatten, Dense\n",
    "from tensorflow.keras.datasets import cifar10\n",
    "from tensorflow.keras.utils import to_categorical\n",
    "import numpy as np\n",
    "from PIL import Image\n",
    "import urllib\n",
    "import matplotlib\n",
    "matplotlib.use('TkAgg')\n",
    "import matplotlib.pyplot as plt"
   ]
  },
  {
   "cell_type": "code",
   "execution_count": null,
   "metadata": {},
   "outputs": [],
   "source": [
    "# CIFAR-10 Klassen\n",
    "CIFAR_10_CLASSES = [\"Flugzeug\",\"Auto\",\"Vogel\",\"Katze\",\"Hirsch\",\"Hund\", \"Frosch\", \"Pferd\",\"Boot\",\"LKW\"]"
   ]
  },
  {
   "cell_type": "code",
   "execution_count": null,
   "metadata": {},
   "outputs": [],
   "source": [
    "# Ein Bild von Wikimedia herunter\n",
    "test_image_url = \"https://upload.wikimedia.org/wikipedia/commons/thumb/9/92/VW_Polo_Genf_2018.jpg/1280px-VW_Polo_Genf_2018.jpg\"\n",
    "#test_image_url = \"https://upload.wikimedia.org/wikipedia/commons/8/8b/Hauskatze_filou.jpg\"\n",
    "#test_image_url = \"https://upload.wikimedia.org/wikipedia/commons/f/f8/Pernod_Al_Ariba_0046b.jpg\""
   ]
  },
  {
   "cell_type": "code",
   "execution_count": null,
   "metadata": {},
   "outputs": [],
   "source": [
    "urllib.request.urlretrieve(test_image_url, \"bild.jpg\")"
   ]
  },
  {
   "cell_type": "code",
   "execution_count": null,
   "metadata": {
    "lines_to_next_cell": 2
   },
   "outputs": [],
   "source": [
    "# Das Bild wird für das Modell auf 32x32 Pixel reduziert \n",
    "# und die Pixelwerte normalisiert\n",
    "test_image = Image.open(\"bild.jpg\")\n",
    "test_image = test_image.resize((32,32), Image.ANTIALIAS)\n",
    "test_image = np.array(test_image,dtype=\"float32\")\n",
    "test_image /= 255\n",
    "test_image = test_image.reshape(-1, 32, 32, 3)"
   ]
  },
  {
   "cell_type": "code",
   "execution_count": null,
   "metadata": {},
   "outputs": [],
   "source": [
    "# Vorhersage vom Modell\n",
    "model = load_model('cifar_model.h5')\n",
    "# Alternativ: \n",
    "# model = load_model(\"cifar_model\")"
   ]
  },
  {
   "cell_type": "code",
   "execution_count": null,
   "metadata": {},
   "outputs": [],
   "source": [
    "predictions = model.predict(test_image) # Das Ergebnis müsste ungefähr bei 10 liegen\n",
    "index_max_predictions = np.argmax(predictions)"
   ]
  },
  {
   "cell_type": "code",
   "execution_count": null,
   "metadata": {},
   "outputs": [],
   "source": [
    "# Darstellung des Ergebnis\n",
    "plt.title(\"Ergebnis: {}\".format(CIFAR_10_CLASSES[index_max_predictions]))\n",
    "plt.imshow(test_image[0].reshape(32,32,3))\n",
    "plt.show()"
   ]
  }
 ],
 "metadata": {
  "jupytext": {
   "cell_metadata_filter": "-all",
   "main_language": "python",
   "notebook_metadata_filter": "-all"
  }
 },
 "nbformat": 4,
 "nbformat_minor": 2
}