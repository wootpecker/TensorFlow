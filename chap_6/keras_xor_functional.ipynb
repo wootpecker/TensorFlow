{
 "cells": [
  {
   "cell_type": "markdown",
   "metadata": {},
   "source": [
    "\n",
    "XOR-Modell Implementierung mit Keras Functional API in TensorFlow 2.x\n"
   ]
  },
  {
   "cell_type": "code",
   "execution_count": null,
   "metadata": {},
   "outputs": [],
   "source": [
    "import tensorflow as tf\n",
    "from tensorflow import keras\n",
    "from tensorflow.keras.models import Sequential\n",
    "from tensorflow.keras.optimizers import SGD\n",
    "from tensorflow.keras.layers import Dense, Activation, Input"
   ]
  },
  {
   "cell_type": "code",
   "execution_count": null,
   "metadata": {},
   "outputs": [],
   "source": [
    "from pprint import pprint\n",
    "import numpy as np"
   ]
  },
  {
   "cell_type": "code",
   "execution_count": null,
   "metadata": {},
   "outputs": [],
   "source": [
    "# Einfaches XOR mit Keras\n",
    "input_data = np.array([[0,0],[0,1],[1,0],[1,1]])\n",
    "output_data = np.array([[0],[1],[1],[0]])"
   ]
  },
  {
   "cell_type": "code",
   "execution_count": null,
   "metadata": {},
   "outputs": [],
   "source": [
    "inputs = Input(shape=(2,),dtype=\"float32\")\n",
    "x = Dense(1024,name=\"First_Layer\")(inputs)\n",
    "x = Activation('relu',name=\"Relu_Activation\")(x)\n",
    "x = Dense(1,name=\"Dense_Layer\")(x)\n",
    "predictions = Activation('sigmoid',name=\"Sigmoid_Activation\")(x)"
   ]
  },
  {
   "cell_type": "code",
   "execution_count": null,
   "metadata": {
    "lines_to_next_cell": 2
   },
   "outputs": [],
   "source": [
    "sgd = SGD(lr=0.01)\n",
    "xor_model = Model(inputs=inputs,outputs=predictions)\n",
    "xor_model.compile(loss=\"mean_squared_error\", optimizer=sgd)\n",
    "xor_model.fit(input_data, output_data, batch_size=1, epochs=3000, verbose=1)\n",
    "print(xor_model.predict(input_data))"
   ]
  }
 ],
 "metadata": {
  "jupytext": {
   "cell_metadata_filter": "-all",
   "main_language": "python",
   "notebook_metadata_filter": "-all"
  },
  "kernelspec": {
   "display_name": "Python 3",
   "language": "python",
   "name": "python3"
  },
  "language_info": {
   "codemirror_mode": {
    "name": "ipython",
    "version": 3
   },
   "file_extension": ".py",
   "mimetype": "text/x-python",
   "name": "python",
   "nbconvert_exporter": "python",
   "pygments_lexer": "ipython3",
   "version": "3.7.3"
  }
 },
 "nbformat": 4,
 "nbformat_minor": 2
}
