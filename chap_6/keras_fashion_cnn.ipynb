{
 "cells": [
  {
   "cell_type": "markdown",
   "metadata": {},
   "source": [
    "\n",
    " Einfaches CNN für Fashion-MNIST mit TensorFlow 2.x\n"
   ]
  },
  {
   "cell_type": "code",
   "execution_count": null,
   "metadata": {},
   "outputs": [],
   "source": [
    "import tensorflow as tf\n",
    "import numpy as np\n",
    "import matplotlib\n",
    "import matplotlib.pyplot as plt \n",
    "import gzip\n",
    "from sklearn.utils import shuffle\n",
    "from tensorflow.keras.models import load_model"
   ]
  },
  {
   "cell_type": "code",
   "execution_count": null,
   "metadata": {
    "lines_to_next_cell": 1
   },
   "outputs": [],
   "source": [
    "# Fashion Klassen\n",
    "fashion_class_labels = {\n",
    "    0: \"T-shirt/top\",\n",
    "    1: \"Trouser\",\n",
    "    2: \"Pullover\",\n",
    "    3: \"Dress\",\n",
    "    4: \"Coat\",\n",
    "    5: \"Sandal\",\n",
    "    6: \"Shirt\",\n",
    "    7: \"Sneaker\",\n",
    "    8: \"Bag\",\n",
    "    9: \"Ankle boot\"\n",
    "}"
   ]
  },
  {
   "cell_type": "code",
   "execution_count": null,
   "metadata": {
    "lines_to_next_cell": 2
   },
   "outputs": [],
   "source": [
    "# Labels und Daten werden hier geladen\n",
    "def load_fashion_data():\n",
    "    \n",
    "    # Trainingsdaten\n",
    "    ## Labels (Ausgabe)\n",
    "    with gzip.open(\"data/fashion/train-labels-idx1-ubyte.gz\") as path:\n",
    "        train_labels = np.frombuffer(path.read(),np.uint8,offset=8)\n",
    "\n",
    "    ## Bilder (Eingabe)\n",
    "    with gzip.open(\"data/fashion/train-images-idx3-ubyte.gz\") as path:\n",
    "        train_images = np.frombuffer(path.read(),np.uint8,offset=16).reshape(len(train_labels),28,28)/255.0\n",
    "\n",
    "    # Testdaten \n",
    "\n",
    "    ## Labels (Ausgabe)\n",
    "    with gzip.open(\"data/fashion/t10k-labels-idx1-ubyte.gz\") as path:\n",
    "        test_labels = np.frombuffer(path.read(),np.uint8,offset=8)\n",
    "\n",
    "    ## Bilder (Eingabe)\n",
    "    with gzip.open(\"data/fashion/t10k-images-idx3-ubyte.gz\") as path:\n",
    "        test_images = np.frombuffer(path.read(),np.uint8,offset=16).reshape(len(test_labels),28,28)/255.0\n",
    "\n",
    "    test_images = np.reshape(test_images,(-1, 28, 28, 1))\n",
    "    train_images = np.reshape(train_images,(-1, 28, 28, 1))\n",
    "\n",
    "\n",
    "    seed = 42 \n",
    "    # Shuffle der Testdaten\n",
    "    train_images, train_labels = shuffle(train_images, train_labels,random_state=seed)\n",
    "\n",
    "    # Shuffle der Testdaten\n",
    "    test_images, test_labels = shuffle(test_images, test_labels,random_state=seed)\n",
    "\n",
    "    # One Hot Encoding (10 Kategorien)\n",
    "    train_labels = tf.keras.utils.to_categorical(train_labels,10) \n",
    "    test_labels = tf.keras.utils.to_categorical(test_labels,10)\n",
    "\n",
    "    return train_images, train_labels, test_images, test_labels"
   ]
  },
  {
   "cell_type": "code",
   "execution_count": null,
   "metadata": {},
   "outputs": [],
   "source": [
    "# Laden der Daten\n",
    "train_images, train_labels, test_images, test_labels = load_fashion_data()"
   ]
  },
  {
   "cell_type": "code",
   "execution_count": null,
   "metadata": {},
   "outputs": [],
   "source": [
    "def get_test_image(index):\n",
    "    return np.reshape(test_images[index],(-1,28,28,1))"
   ]
  },
  {
   "cell_type": "code",
   "execution_count": null,
   "metadata": {
    "lines_to_next_cell": 1
   },
   "outputs": [],
   "source": [
    "def show_test_image(index):\n",
    "    plt.title(fashion_class_labels[np.argmax(test_labels[index])])\n",
    "    plt.imshow(np.reshape(test_images[index],(28,28)),cmap='Greys')\n",
    "    plt.show()"
   ]
  },
  {
   "cell_type": "code",
   "execution_count": null,
   "metadata": {
    "lines_to_next_cell": 2
   },
   "outputs": [],
   "source": [
    "def show_dataset():\n",
    "    plt.figure(figsize=(5,5))\n",
    "    for i in range(20):\n",
    "        plt.subplot(4,5,i+1)\n",
    "        plt.grid(False)\n",
    "        plt.xticks([])\n",
    "        plt.yticks([])\n",
    "        plt.title(fashion_class_labels[train_labels[i]])\n",
    "        plt.imshow( np.reshape(train_images[i],(28,28)),cmap='Greys')\n",
    "\n",
    "    plt.show()"
   ]
  },
  {
   "cell_type": "code",
   "execution_count": null,
   "metadata": {
    "lines_to_next_cell": 2
   },
   "outputs": [],
   "source": [
    "show_test_image(2500)\n",
    "#show_dataset()"
   ]
  },
  {
   "cell_type": "code",
   "execution_count": null,
   "metadata": {
    "lines_to_next_cell": 2
   },
   "outputs": [],
   "source": [
    "print(test_labels[2500])\n",
    "#print(test_labels)"
   ]
  },
  {
   "cell_type": "code",
   "execution_count": null,
   "metadata": {},
   "outputs": [],
   "source": [
    "def fashion_model():\n",
    "\n",
    "    # Ein einfaches Model \n",
    "    model = tf.keras.models.Sequential()\n",
    "\n",
    "    # Convolutional Layer #1  \n",
    "    model.add(tf.keras.layers.Conv2D(filters= 32,kernel_size=[5, 5], activation=\"relu\"))\n",
    "    model.add(tf.keras.layers.MaxPooling2D(pool_size=[2, 2]))\n",
    "\n",
    "    # Convolutional Layer #2  \n",
    "    model.add(tf.keras.layers.Conv2D(filters=64,kernel_size=[5, 5], activation=\"relu\"))\n",
    "    model.add(tf.keras.layers.MaxPooling2D(pool_size=[2, 2]))\n",
    "\n",
    "    model.add(tf.keras.layers.Flatten())\n",
    "    model.add(tf.keras.layers.Dense(1024))\n",
    "    model.add(tf.keras.layers.Dropout(0.4))\n",
    "    model.add(tf.keras.layers.Dense(10, activation=\"softmax\"))\n",
    "    return model"
   ]
  },
  {
   "cell_type": "markdown",
   "metadata": {},
   "source": [
    "Ohne one_hot encoding:\n",
    "model.compile(optimizer=\"adam\",loss= tf.losses.sparse_categorical_crossentropy,metrics=[\"accuracy\"])"
   ]
  },
  {
   "cell_type": "code",
   "execution_count": null,
   "metadata": {},
   "outputs": [],
   "source": [
    "model = fashion_model()\n",
    "model.compile(optimizer=\"adam\",loss= tf.keras.losses.categorical_crossentropy,metrics=[\"accuracy\"])"
   ]
  },
  {
   "cell_type": "markdown",
   "metadata": {},
   "source": [
    "Mit TensorBoard Visualisierung\n",
    "tf_callback = tf.keras.callbacks.TensorBoard(log_dir=\"./logs\")\n",
    "model.fit(train_images,train_labels,epochs=10,callbacks=[tf_callback])"
   ]
  },
  {
   "cell_type": "code",
   "execution_count": null,
   "metadata": {},
   "outputs": [],
   "source": [
    "model.fit(train_images,train_labels,epochs=10,batch_size=32, validation_split=0.1)"
   ]
  },
  {
   "cell_type": "code",
   "execution_count": null,
   "metadata": {},
   "outputs": [],
   "source": [
    "evaluation_results = model.evaluate(test_images, test_labels)\n",
    "print(evaluation_results)\n",
    "print(\"Loss: {}\".format(evaluation_results[0]))\n",
    "print(\"Accuracy: {}\".format(evaluation_results[1]))"
   ]
  },
  {
   "cell_type": "code",
   "execution_count": null,
   "metadata": {},
   "outputs": [],
   "source": [
    "# Modell wird gespeichert und neu geladen\n",
    "model.save(\"fashion.h5\")\n",
    "fashion_model = load_model(\"fashion.h5\")"
   ]
  },
  {
   "cell_type": "code",
   "execution_count": null,
   "metadata": {},
   "outputs": [],
   "source": [
    "# Laden von Bild 120 und Vorhersage mit keras\n",
    "predictions = fashion_model.predict(get_test_image(2500))"
   ]
  },
  {
   "cell_type": "code",
   "execution_count": null,
   "metadata": {},
   "outputs": [],
   "source": [
    "# Vorhersage:\n",
    "print(\"Gefundene Fashion Kategorie: {}\".format(fashion_class_labels[np.argmax(predictions)]))"
   ]
  },
  {
   "cell_type": "code",
   "execution_count": null,
   "metadata": {},
   "outputs": [],
   "source": [
    "# Alternative schreibweise\n",
    "'''\n",
    "model = tf.keras.models.Sequential([    \n",
    "    tf.keras.layers.Flatten(input_shape=(28,28)),\n",
    "    tf.keras.layers.Dense(60,activation=\"relu\"),\n",
    "    tf.keras.layers.Dense(20,activation=\"relu\"),\n",
    "    tf.keras.layers.Dense(10, activation=\"softmax\")\n",
    "])\n",
    "'''"
   ]
  }
 ],
 "metadata": {
  "jupytext": {
   "cell_metadata_filter": "-all",
   "main_language": "python",
   "notebook_metadata_filter": "-all"
  },
  "kernelspec": {
   "display_name": "Python 3",
   "language": "python",
   "name": "python3"
  },
  "language_info": {
   "codemirror_mode": {
    "name": "ipython",
    "version": 3
   },
   "file_extension": ".py",
   "mimetype": "text/x-python",
   "name": "python",
   "nbconvert_exporter": "python",
   "pygments_lexer": "ipython3",
   "version": "3.7.3"
  }
 },
 "nbformat": 4,
 "nbformat_minor": 2
}
