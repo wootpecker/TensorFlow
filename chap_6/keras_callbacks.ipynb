{
 "cells": [
  {
   "cell_type": "markdown",
   "metadata": {},
   "source": [
    "\n",
    "Benutzung von Callbacks mit Keras in TensorFlow 2\n"
   ]
  },
  {
   "cell_type": "code",
   "execution_count": null,
   "metadata": {},
   "outputs": [],
   "source": [
    "import tensorflow as tf\n",
    "from tensorflow import keras\n",
    "from tensorflow.keras.layers import Dense, Activation\n",
    "from tensorflow.keras.models import Sequential\n",
    "from tensorflow.keras.optimizers import SGD\n",
    "from tensorflow.keras import metrics\n",
    "from tensorflow.keras.callbacks import CSVLogger, EarlyStopping\n",
    "import time\n",
    "from pprint import pprint\n",
    "import numpy as np"
   ]
  },
  {
   "cell_type": "code",
   "execution_count": null,
   "metadata": {},
   "outputs": [],
   "source": [
    "# Einfaches XOR mit Keras\n",
    "input_data = np.array([[0,0],[0,1],[1,0],[1,1]])\n",
    "output_data = np.array([[0],[1],[1],[0]])"
   ]
  },
  {
   "cell_type": "code",
   "execution_count": null,
   "metadata": {},
   "outputs": [],
   "source": [
    "# Definition des Modells\n",
    "xor_model = Sequential()\n",
    "xor_model.add(Dense(1024,input_dim=2,activation=\"relu\"))\n",
    "xor_model.add(Dense(1,activation=\"sigmoid\"))"
   ]
  },
  {
   "cell_type": "code",
   "execution_count": null,
   "metadata": {},
   "outputs": [],
   "source": [
    "xor_model.summary()"
   ]
  },
  {
   "cell_type": "code",
   "execution_count": null,
   "metadata": {
    "lines_to_next_cell": 1
   },
   "outputs": [],
   "source": [
    "sgd = SGD(lr=0.01)"
   ]
  },
  {
   "cell_type": "code",
   "execution_count": null,
   "metadata": {
    "lines_to_next_cell": 1
   },
   "outputs": [],
   "source": [
    "# Definition eines neuen Callbacks\n",
    "class MyCallback(keras.callbacks.Callback):\n",
    "    def on_train_begin(self, logs={}):\n",
    "        print(\"Anfang vom Training\")\n",
    "        self.begin_time = time.time()\n",
    "    def on_train_end(self, logs={}):\n",
    "        print(\"Ende vom Training\")\n",
    "        self.training_duration = time.time() - self.begin_time\n",
    "        print(\"Dauer des Trainings: {} sec.\".format(self.training_duration))\n",
    "\n",
    "    ''' Optional \n",
    "    def on_batch_end(self, batch, logs={}):\n",
    "        print(\"On Batch End\")\n",
    "    def on_epoch_begin(self,epoch,logs={}):\n",
    "        print(\"On Epoch Begin\")\n",
    "    '''"
   ]
  },
  {
   "cell_type": "code",
   "execution_count": null,
   "metadata": {},
   "outputs": [],
   "source": [
    "# CSV Logger Callback\n",
    "csv_logger_cb = CSVLogger(\"xor_log.csv\", separator=',', append=False)"
   ]
  },
  {
   "cell_type": "code",
   "execution_count": null,
   "metadata": {},
   "outputs": [],
   "source": [
    "# Eigenes Callback\n",
    "my_cb = MyCallback()"
   ]
  },
  {
   "cell_type": "code",
   "execution_count": null,
   "metadata": {},
   "outputs": [],
   "source": [
    "# Early Stopping Callback\n",
    "early_stopping_cb = EarlyStopping(monitor=\"loss\",min_delta=0.0001,patience=20)"
   ]
  },
  {
   "cell_type": "code",
   "execution_count": null,
   "metadata": {},
   "outputs": [],
   "source": [
    "# Modell wird festgelegt und trainiert\n",
    "xor_model.compile(loss=\"mean_squared_error\", optimizer=sgd, metrics=[metrics.mae])\n",
    "xor_model.fit(input_data, output_data, batch_size=1, epochs=10000, verbose=1,callbacks=[csv_logger_cb,my_cb,early_stopping_cb])"
   ]
  },
  {
   "cell_type": "code",
   "execution_count": null,
   "metadata": {
    "lines_to_next_cell": 2
   },
   "outputs": [],
   "source": [
    "pprint(xor_model.predict(input_data))"
   ]
  }
 ],
 "metadata": {
  "jupytext": {
   "cell_metadata_filter": "-all",
   "main_language": "python",
   "notebook_metadata_filter": "-all"
  }
 },
 "nbformat": 4,
 "nbformat_minor": 2
}
