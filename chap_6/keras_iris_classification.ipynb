{
 "cells": [
  {
   "cell_type": "markdown",
   "metadata": {},
   "source": [
    "\n",
    "Klassifikation der Iris-Blumen ohne Evaluationsmetriken mit Keras (TensorFlow 2.x)\n"
   ]
  },
  {
   "cell_type": "code",
   "execution_count": null,
   "metadata": {},
   "outputs": [],
   "source": [
    "import tensorflow as tf\n",
    "from tensorflow import keras\n",
    "from tensorflow.keras.models import Sequential\n",
    "from tensorflow.keras.optimizers import SGD\n",
    "from tensorflow.keras.layers import Dense, Activation\n",
    "from tensorflow.keras.utils import to_categorical\n",
    "from sklearn.preprocessing import OneHotEncoder\n",
    "from pprint import pprint\n",
    "import numpy as np"
   ]
  },
  {
   "cell_type": "code",
   "execution_count": null,
   "metadata": {},
   "outputs": [],
   "source": [
    "# Laden der iris.csv Datei\n",
    "iris_data = np.loadtxt(\"data/iris.csv\",delimiter=\",\",dtype=\"str\",skiprows=1)"
   ]
  },
  {
   "cell_type": "code",
   "execution_count": null,
   "metadata": {},
   "outputs": [],
   "source": [
    "# Wir erstellen die Kategorien:\n",
    "iris_label_array = [\"Iris-setosa\",\"Iris-versicolor\",\"Iris-virginica\"]\n",
    "label_index = 0\n",
    "for label in iris_label_array :\n",
    "    print(label)\n",
    "    # Wenn eins der Label innerhalb der tabelle gefunden wird,\n",
    "    # Wir dieses mit dem label_index ersetzt\n",
    "    # z.B. alle Einträge von Iris-versicolor werden mit dem Wert 1 ersetzt\n",
    "    iris_data[np.where(iris_data[:,4]==label),4] = label_index\n",
    "    label_index = label_index + 1"
   ]
  },
  {
   "cell_type": "code",
   "execution_count": null,
   "metadata": {},
   "outputs": [],
   "source": [
    "iris_data = iris_data.astype(\"float32\")"
   ]
  },
  {
   "cell_type": "code",
   "execution_count": null,
   "metadata": {},
   "outputs": [],
   "source": [
    "input_data = iris_data[:,0:4] # Spalten 0 bis 4 werden extrahier bzw. 'sepal length' 'sepal width' 'petal length' 'petal width'\n",
    "output_data = iris_data[:,4].reshape(-1, 1) # Die 4. Spalte wird extrahiert und in einen Array von 1D-Array umgewandelt\n",
    "output_data = tf.keras.utils.to_categorical(output_data,3)"
   ]
  },
  {
   "cell_type": "code",
   "execution_count": null,
   "metadata": {},
   "outputs": [],
   "source": [
    "# Aufbau des Modells mit Keras\n",
    "iris_model = Sequential()\n",
    "iris_model.add(Dense(5,input_shape=(4,),activation=\"tanh\"))\n",
    "iris_model.add(Dense(24,activation=\"relu\"))\n",
    "iris_model.add(Dense(3,activation=\"softmax\"))"
   ]
  },
  {
   "cell_type": "code",
   "execution_count": null,
   "metadata": {},
   "outputs": [],
   "source": [
    "sgd = SGD(lr=0.001)"
   ]
  },
  {
   "cell_type": "code",
   "execution_count": null,
   "metadata": {},
   "outputs": [],
   "source": [
    "iris_model.compile(loss=\"categorical_crossentropy\", optimizer=sgd, metrics=[\"accuracy\"])\n",
    "iris_model.fit(x=input_data, y=output_data, batch_size=10, epochs=500, verbose=1)"
   ]
  },
  {
   "cell_type": "code",
   "execution_count": null,
   "metadata": {},
   "outputs": [],
   "source": [
    "# Single test\n",
    "test = np.array([[5.1,3.5,1.4,0.2], [5.9,3.,5.1,1.8], [4.9,3.,1.4,0.2], [5.8,2.7,4.1,1.]])\n",
    "predictions = iris_model.predict(test)\n",
    "index_max_predictions = np.argmax(predictions,axis=1)\n",
    "print(index_max_predictions)"
   ]
  },
  {
   "cell_type": "code",
   "execution_count": null,
   "metadata": {},
   "outputs": [],
   "source": [
    "for i in index_max_predictions:\n",
    "    print(\"Iris mit den Eigenschaften {} gehört zur Klasse: {}\".format(\n",
    "    test[i],\n",
    "    iris_label_array[i]))"
   ]
  }
 ],
 "metadata": {
  "jupytext": {
   "cell_metadata_filter": "-all",
   "main_language": "python",
   "notebook_metadata_filter": "-all"
  }
 },
 "nbformat": 4,
 "nbformat_minor": 2
}
