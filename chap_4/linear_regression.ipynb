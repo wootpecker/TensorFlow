{
 "cells": [
  {
   "cell_type": "markdown",
   "metadata": {},
   "source": [
    "\n",
    "Beispiel einer linearen Regression mit scikit-learn\n"
   ]
  },
  {
   "cell_type": "code",
   "execution_count": 25,
   "metadata": {},
   "outputs": [],
   "source": [
    "import numpy as np\n",
    "from sklearn import linear_model\n",
    "from sklearn.metrics import mean_squared_error, r2_score\n",
    "from matplotlib import pyplot as plt"
   ]
  },
  {
   "cell_type": "code",
   "execution_count": 26,
   "metadata": {},
   "outputs": [],
   "source": [
    "# um die Reproduzierbarkeit der Ergebnisse zu gewährleisten, setzen wir random.seed auf eine festen Wert, z.B. 7n\n",
    "np.random.seed(7)"
   ]
  },
  {
   "cell_type": "code",
   "execution_count": 27,
   "metadata": {},
   "outputs": [],
   "source": [
    "# Der Array für die x-Werte des Datensatzes weren generiert\n",
    "x = np.arange(-500,500)"
   ]
  },
  {
   "cell_type": "code",
   "execution_count": 28,
   "metadata": {},
   "outputs": [
    {
     "name": "stdout",
     "output_type": "stream",
     "text": [
      "X ===  [-500 -499 -498 -497 -496 -495 -494 -493 -492 -491 -490 -489 -488 -487\n",
      " -486 -485 -484 -483 -482 -481 -480 -479 -478 -477 -476 -475 -474 -473\n",
      " -472 -471 -470 -469 -468 -467 -466 -465 -464 -463 -462 -461 -460 -459\n",
      " -458 -457 -456 -455 -454 -453 -452 -451 -450 -449 -448 -447 -446 -445\n",
      " -444 -443 -442 -441 -440 -439 -438 -437 -436 -435 -434 -433 -432 -431\n",
      " -430 -429 -428 -427 -426 -425 -424 -423 -422 -421 -420 -419 -418 -417\n",
      " -416 -415 -414 -413 -412 -411 -410 -409 -408 -407 -406 -405 -404 -403\n",
      " -402 -401 -400 -399 -398 -397 -396 -395 -394 -393 -392 -391 -390 -389\n",
      " -388 -387 -386 -385 -384 -383 -382 -381 -380 -379 -378 -377 -376 -375\n",
      " -374 -373 -372 -371 -370 -369 -368 -367 -366 -365 -364 -363 -362 -361\n",
      " -360 -359 -358 -357 -356 -355 -354 -353 -352 -351 -350 -349 -348 -347\n",
      " -346 -345 -344 -343 -342 -341 -340 -339 -338 -337 -336 -335 -334 -333\n",
      " -332 -331 -330 -329 -328 -327 -326 -325 -324 -323 -322 -321 -320 -319\n",
      " -318 -317 -316 -315 -314 -313 -312 -311 -310 -309 -308 -307 -306 -305\n",
      " -304 -303 -302 -301 -300 -299 -298 -297 -296 -295 -294 -293 -292 -291\n",
      " -290 -289 -288 -287 -286 -285 -284 -283 -282 -281 -280 -279 -278 -277\n",
      " -276 -275 -274 -273 -272 -271 -270 -269 -268 -267 -266 -265 -264 -263\n",
      " -262 -261 -260 -259 -258 -257 -256 -255 -254 -253 -252 -251 -250 -249\n",
      " -248 -247 -246 -245 -244 -243 -242 -241 -240 -239 -238 -237 -236 -235\n",
      " -234 -233 -232 -231 -230 -229 -228 -227 -226 -225 -224 -223 -222 -221\n",
      " -220 -219 -218 -217 -216 -215 -214 -213 -212 -211 -210 -209 -208 -207\n",
      " -206 -205 -204 -203 -202 -201 -200 -199 -198 -197 -196 -195 -194 -193\n",
      " -192 -191 -190 -189 -188 -187 -186 -185 -184 -183 -182 -181 -180 -179\n",
      " -178 -177 -176 -175 -174 -173 -172 -171 -170 -169 -168 -167 -166 -165\n",
      " -164 -163 -162 -161 -160 -159 -158 -157 -156 -155 -154 -153 -152 -151\n",
      " -150 -149 -148 -147 -146 -145 -144 -143 -142 -141 -140 -139 -138 -137\n",
      " -136 -135 -134 -133 -132 -131 -130 -129 -128 -127 -126 -125 -124 -123\n",
      " -122 -121 -120 -119 -118 -117 -116 -115 -114 -113 -112 -111 -110 -109\n",
      " -108 -107 -106 -105 -104 -103 -102 -101 -100  -99  -98  -97  -96  -95\n",
      "  -94  -93  -92  -91  -90  -89  -88  -87  -86  -85  -84  -83  -82  -81\n",
      "  -80  -79  -78  -77  -76  -75  -74  -73  -72  -71  -70  -69  -68  -67\n",
      "  -66  -65  -64  -63  -62  -61  -60  -59  -58  -57  -56  -55  -54  -53\n",
      "  -52  -51  -50  -49  -48  -47  -46  -45  -44  -43  -42  -41  -40  -39\n",
      "  -38  -37  -36  -35  -34  -33  -32  -31  -30  -29  -28  -27  -26  -25\n",
      "  -24  -23  -22  -21  -20  -19  -18  -17  -16  -15  -14  -13  -12  -11\n",
      "  -10   -9   -8   -7   -6   -5   -4   -3   -2   -1    0    1    2    3\n",
      "    4    5    6    7    8    9   10   11   12   13   14   15   16   17\n",
      "   18   19   20   21   22   23   24   25   26   27   28   29   30   31\n",
      "   32   33   34   35   36   37   38   39   40   41   42   43   44   45\n",
      "   46   47   48   49   50   51   52   53   54   55   56   57   58   59\n",
      "   60   61   62   63   64   65   66   67   68   69   70   71   72   73\n",
      "   74   75   76   77   78   79   80   81   82   83   84   85   86   87\n",
      "   88   89   90   91   92   93   94   95   96   97   98   99  100  101\n",
      "  102  103  104  105  106  107  108  109  110  111  112  113  114  115\n",
      "  116  117  118  119  120  121  122  123  124  125  126  127  128  129\n",
      "  130  131  132  133  134  135  136  137  138  139  140  141  142  143\n",
      "  144  145  146  147  148  149  150  151  152  153  154  155  156  157\n",
      "  158  159  160  161  162  163  164  165  166  167  168  169  170  171\n",
      "  172  173  174  175  176  177  178  179  180  181  182  183  184  185\n",
      "  186  187  188  189  190  191  192  193  194  195  196  197  198  199\n",
      "  200  201  202  203  204  205  206  207  208  209  210  211  212  213\n",
      "  214  215  216  217  218  219  220  221  222  223  224  225  226  227\n",
      "  228  229  230  231  232  233  234  235  236  237  238  239  240  241\n",
      "  242  243  244  245  246  247  248  249  250  251  252  253  254  255\n",
      "  256  257  258  259  260  261  262  263  264  265  266  267  268  269\n",
      "  270  271  272  273  274  275  276  277  278  279  280  281  282  283\n",
      "  284  285  286  287  288  289  290  291  292  293  294  295  296  297\n",
      "  298  299  300  301  302  303  304  305  306  307  308  309  310  311\n",
      "  312  313  314  315  316  317  318  319  320  321  322  323  324  325\n",
      "  326  327  328  329  330  331  332  333  334  335  336  337  338  339\n",
      "  340  341  342  343  344  345  346  347  348  349  350  351  352  353\n",
      "  354  355  356  357  358  359  360  361  362  363  364  365  366  367\n",
      "  368  369  370  371  372  373  374  375  376  377  378  379  380  381\n",
      "  382  383  384  385  386  387  388  389  390  391  392  393  394  395\n",
      "  396  397  398  399  400  401  402  403  404  405  406  407  408  409\n",
      "  410  411  412  413  414  415  416  417  418  419  420  421  422  423\n",
      "  424  425  426  427  428  429  430  431  432  433  434  435  436  437\n",
      "  438  439  440  441  442  443  444  445  446  447  448  449  450  451\n",
      "  452  453  454  455  456  457  458  459  460  461  462  463  464  465\n",
      "  466  467  468  469  470  471  472  473  474  475  476  477  478  479\n",
      "  480  481  482  483  484  485  486  487  488  489  490  491  492  493\n",
      "  494  495  496  497  498  499]\n",
      "RES ==  [-2.517e+02 -2.301e+02 -2.398e+02 -2.308e+02 -2.227e+02 -2.353e+02\n",
      " -2.360e+02 -2.483e+02 -2.419e+02 -2.345e+02 -2.286e+02 -2.244e+02\n",
      " -2.366e+02 -2.455e+02 -2.384e+02 -2.192e+02 -2.396e+02 -2.319e+02\n",
      " -2.171e+02 -2.438e+02 -2.260e+02 -2.150e+02 -2.361e+02 -2.260e+02\n",
      " -2.147e+02 -2.375e+02 -2.253e+02 -2.180e+02 -2.199e+02 -2.255e+02\n",
      " -2.329e+02 -2.238e+02 -2.268e+02 -2.232e+02 -2.260e+02 -2.114e+02\n",
      " -2.129e+02 -2.261e+02 -2.178e+02 -2.262e+02 -2.204e+02 -2.229e+02\n",
      " -2.133e+02 -2.214e+02 -2.182e+02 -2.099e+02 -2.186e+02 -2.033e+02\n",
      " -2.246e+02 -2.073e+02 -2.163e+02 -2.157e+02 -2.090e+02 -2.118e+02\n",
      " -2.146e+02 -2.265e+02 -2.232e+02 -2.042e+02 -2.093e+02 -2.036e+02\n",
      " -1.953e+02 -2.030e+02 -2.214e+02 -2.132e+02 -2.042e+02 -2.144e+02\n",
      " -1.921e+02 -1.921e+02 -1.945e+02 -2.053e+02 -1.938e+02 -2.146e+02\n",
      " -2.087e+02 -2.036e+02 -1.947e+02 -2.019e+02 -2.119e+02 -2.052e+02\n",
      " -2.053e+02 -2.055e+02 -2.090e+02 -2.011e+02 -1.996e+02 -1.893e+02\n",
      " -1.881e+02 -1.958e+02 -1.972e+02 -1.872e+02 -1.834e+02 -1.893e+02\n",
      " -1.850e+02 -1.803e+02 -2.068e+02 -1.812e+02 -1.987e+02 -1.922e+02\n",
      " -1.821e+02 -1.840e+02 -2.006e+02 -1.847e+02 -2.019e+02 -1.928e+02\n",
      " -1.786e+02 -1.897e+02 -1.840e+02 -1.797e+02 -1.764e+02 -1.777e+02\n",
      " -1.998e+02 -1.869e+02 -1.851e+02 -1.968e+02 -1.818e+02 -1.793e+02\n",
      " -1.721e+02 -1.682e+02 -1.922e+02 -1.886e+02 -1.752e+02 -1.905e+02\n",
      " -1.873e+02 -1.763e+02 -1.879e+02 -1.690e+02 -1.663e+02 -1.905e+02\n",
      " -1.750e+02 -1.666e+02 -1.607e+02 -1.813e+02 -1.839e+02 -1.622e+02\n",
      " -1.607e+02 -1.816e+02 -1.738e+02 -1.649e+02 -1.606e+02 -1.805e+02\n",
      " -1.651e+02 -1.603e+02 -1.675e+02 -1.786e+02 -1.819e+02 -1.741e+02\n",
      " -1.578e+02 -1.802e+02 -1.808e+02 -1.697e+02 -1.781e+02 -1.750e+02\n",
      " -1.783e+02 -1.628e+02 -1.571e+02 -1.647e+02 -1.730e+02 -1.666e+02\n",
      " -1.583e+02 -1.473e+02 -1.452e+02 -1.673e+02 -1.737e+02 -1.486e+02\n",
      " -1.452e+02 -1.587e+02 -1.489e+02 -1.455e+02 -1.527e+02 -1.443e+02\n",
      " -1.693e+02 -1.614e+02 -1.607e+02 -1.649e+02 -1.407e+02 -1.666e+02\n",
      " -1.468e+02 -1.644e+02 -1.552e+02 -1.530e+02 -1.596e+02 -1.489e+02\n",
      " -1.480e+02 -1.540e+02 -1.409e+02 -1.577e+02 -1.562e+02 -1.509e+02\n",
      " -1.496e+02 -1.543e+02 -1.324e+02 -1.347e+02 -1.558e+02 -1.474e+02\n",
      " -1.510e+02 -1.440e+02 -1.487e+02 -1.414e+02 -1.283e+02 -1.440e+02\n",
      " -1.355e+02 -1.366e+02 -1.314e+02 -1.517e+02 -1.307e+02 -1.241e+02\n",
      " -1.339e+02 -1.429e+02 -1.308e+02 -1.291e+02 -1.303e+02 -1.451e+02\n",
      " -1.198e+02 -1.198e+02 -1.353e+02 -1.297e+02 -1.458e+02 -1.168e+02\n",
      " -1.214e+02 -1.264e+02 -1.222e+02 -1.389e+02 -1.348e+02 -1.361e+02\n",
      " -1.251e+02 -1.397e+02 -1.151e+02 -1.276e+02 -1.277e+02 -1.374e+02\n",
      " -1.195e+02 -1.150e+02 -1.201e+02 -1.312e+02 -1.144e+02 -1.331e+02\n",
      " -1.122e+02 -1.191e+02 -1.273e+02 -1.201e+02 -1.161e+02 -1.267e+02\n",
      " -1.086e+02 -1.209e+02 -1.062e+02 -1.074e+02 -1.290e+02 -1.121e+02\n",
      " -1.217e+02 -1.079e+02 -1.137e+02 -1.158e+02 -1.021e+02 -1.268e+02\n",
      " -1.113e+02 -1.177e+02 -1.259e+02 -1.039e+02 -1.091e+02 -9.868e+01\n",
      " -1.071e+02 -1.144e+02 -9.444e+01 -1.200e+02 -1.214e+02 -1.005e+02\n",
      " -1.109e+02 -1.107e+02 -9.470e+01 -1.107e+02 -9.333e+01 -1.002e+02\n",
      " -1.091e+02 -1.167e+02 -1.106e+02 -8.845e+01 -1.048e+02 -1.117e+02\n",
      " -1.071e+02 -8.851e+01 -1.101e+02 -9.116e+01 -1.100e+02 -8.466e+01\n",
      " -9.709e+01 -1.112e+02 -8.407e+01 -1.008e+02 -8.906e+01 -9.479e+01\n",
      " -1.072e+02 -1.063e+02 -1.045e+02 -1.037e+02 -1.064e+02 -1.061e+02\n",
      " -7.855e+01 -1.038e+02 -9.075e+01 -1.019e+02 -9.856e+01 -8.161e+01\n",
      " -7.586e+01 -8.941e+01 -1.028e+02 -7.252e+01 -1.006e+02 -8.982e+01\n",
      " -8.483e+01 -7.375e+01 -7.531e+01 -8.122e+01 -8.704e+01 -7.347e+01\n",
      " -7.193e+01 -7.134e+01 -7.547e+01 -9.357e+01 -8.704e+01 -8.092e+01\n",
      " -7.985e+01 -6.951e+01 -8.686e+01 -7.356e+01 -8.177e+01 -6.924e+01\n",
      " -8.613e+01 -7.720e+01 -8.789e+01 -8.414e+01 -6.194e+01 -8.002e+01\n",
      " -6.221e+01 -7.277e+01 -8.683e+01 -6.371e+01 -8.544e+01 -6.169e+01\n",
      " -8.574e+01 -6.528e+01 -8.003e+01 -7.421e+01 -5.542e+01 -6.891e+01\n",
      " -6.328e+01 -6.028e+01 -7.870e+01 -5.634e+01 -5.358e+01 -7.584e+01\n",
      " -6.361e+01 -7.099e+01 -5.678e+01 -7.765e+01 -6.262e+01 -5.372e+01\n",
      " -5.496e+01 -7.325e+01 -5.101e+01 -6.836e+01 -5.077e+01 -5.959e+01\n",
      " -6.918e+01 -5.148e+01 -4.876e+01 -5.153e+01 -4.305e+01 -6.382e+01\n",
      " -6.393e+01 -6.608e+01 -5.382e+01 -5.752e+01 -5.830e+01 -5.469e+01\n",
      " -5.976e+01 -6.737e+01 -5.285e+01 -5.822e+01 -5.251e+01 -3.763e+01\n",
      " -5.963e+01 -4.538e+01 -4.467e+01 -5.506e+01 -4.887e+01 -3.341e+01\n",
      " -5.173e+01 -4.013e+01 -3.579e+01 -4.968e+01 -3.030e+01 -4.072e+01\n",
      " -4.397e+01 -3.705e+01 -4.529e+01 -3.613e+01 -4.876e+01 -2.868e+01\n",
      " -3.974e+01 -4.825e+01 -4.188e+01 -2.765e+01 -2.979e+01 -3.897e+01\n",
      " -4.245e+01 -4.121e+01 -2.256e+01 -4.813e+01 -2.433e+01 -2.477e+01\n",
      " -4.327e+01 -3.902e+01 -3.191e+01 -2.443e+01 -1.949e+01 -1.775e+01\n",
      " -3.856e+01 -4.073e+01 -3.137e+01 -2.877e+01 -2.530e+01 -4.127e+01\n",
      " -2.461e+01 -1.586e+01 -1.554e+01 -1.419e+01 -1.433e+01 -1.268e+01\n",
      " -3.954e+01 -1.302e+01 -3.186e+01 -2.988e+01 -2.524e+01 -9.842e+00\n",
      " -1.985e+01 -2.692e+01 -2.578e+01 -9.352e+00 -1.133e+01 -3.137e+01\n",
      " -2.754e+01 -2.334e+01 -2.750e+01 -1.660e+01 -2.629e+01 -1.525e+01\n",
      " -3.919e+00 -6.040e+00 -2.802e+01 -2.429e+01 -1.762e+01 -1.012e+01\n",
      " -1.740e+01 -2.095e+01 -1.766e+01 -2.138e+01 -1.144e+00 -5.582e+00\n",
      " -1.367e+01 -4.487e+00 -9.408e+00 -8.712e+00 -1.298e+01 -8.853e+00\n",
      "  6.565e+00  1.034e+00  2.831e+00 -1.777e+01 -5.872e+00 -9.493e+00\n",
      " -1.733e+01 -7.642e+00 -1.677e+01 -1.148e+01  5.963e+00  3.087e+00\n",
      "  3.956e+00 -1.412e+01 -1.108e+01 -1.485e+01 -1.207e+01 -1.146e+01\n",
      "  1.480e+01  1.332e+01 -6.872e+00 -4.886e+00  1.683e+01  5.600e+00\n",
      "  5.570e-02  3.496e+00 -1.834e+00  8.007e+00  1.276e+01  6.963e+00\n",
      "  1.662e+01 -4.104e+00  1.111e+01  2.319e+01 -1.528e+00  9.351e+00\n",
      "  1.390e+01  5.626e+00  2.494e+01  1.106e+01  1.136e+01  2.458e+01\n",
      " -1.523e+00  2.457e+01  2.872e+00  1.088e+01  1.465e+01  1.480e+01\n",
      "  2.182e+00  1.101e+01  1.270e+01  3.119e+01  3.051e+01  2.103e+01\n",
      "  3.200e+01  3.041e+01  1.627e+01  9.009e+00  2.421e+01  1.619e+01\n",
      "  7.292e+00  3.694e+01  3.708e+01  2.460e+01  2.755e+01  2.957e+01\n",
      "  3.780e+01  2.453e+01  2.849e+01  1.830e+01  1.927e+01  2.816e+01\n",
      "  1.988e+01  1.441e+01  2.505e+01  3.700e+01  2.331e+01  4.138e+01\n",
      "  3.708e+01  3.610e+01  4.377e+01  1.971e+01  2.336e+01  4.578e+01\n",
      "  4.621e+01  2.185e+01  4.323e+01  2.096e+01  2.506e+01  2.479e+01\n",
      "  3.082e+01  3.415e+01  5.033e+01  3.659e+01  2.772e+01  3.267e+01\n",
      "  2.519e+01  2.634e+01  3.893e+01  4.187e+01  3.450e+01  3.890e+01\n",
      "  3.110e+01  4.826e+01  4.078e+01  3.435e+01  4.492e+01  3.675e+01\n",
      "  3.976e+01  3.523e+01  5.542e+01  4.088e+01  6.167e+01  4.566e+01\n",
      "  3.866e+01  5.566e+01  5.701e+01  6.194e+01  3.995e+01  6.020e+01\n",
      "  6.279e+01  4.664e+01  5.163e+01  5.709e+01  4.637e+01  6.564e+01\n",
      "  6.098e+01  6.620e+01  5.450e+01  5.707e+01  4.783e+01  5.192e+01\n",
      "  6.489e+01  7.227e+01  4.856e+01  4.602e+01  4.702e+01  5.856e+01\n",
      "  6.978e+01  5.325e+01  6.131e+01  6.296e+01  7.313e+01  5.342e+01\n",
      "  4.944e+01  6.470e+01  6.066e+01  5.926e+01  7.417e+01  7.200e+01\n",
      "  5.452e+01  6.894e+01  7.694e+01  8.079e+01  5.401e+01  7.873e+01\n",
      "  5.630e+01  7.596e+01  7.394e+01  8.506e+01  7.596e+01  5.960e+01\n",
      "  7.811e+01  6.615e+01  8.396e+01  6.044e+01  6.972e+01  8.079e+01\n",
      "  6.567e+01  8.089e+01  8.292e+01  8.451e+01  8.926e+01  7.589e+01\n",
      "  6.827e+01  7.231e+01  7.669e+01  6.714e+01  8.726e+01  6.839e+01\n",
      "  6.873e+01  9.547e+01  9.219e+01  7.611e+01  7.925e+01  9.428e+01\n",
      "  8.858e+01  7.845e+01  8.447e+01  9.717e+01  7.202e+01  1.023e+02\n",
      "  8.998e+01  7.896e+01  9.801e+01  7.679e+01  8.730e+01  9.269e+01\n",
      "  8.342e+01  1.031e+02  9.791e+01  8.235e+01  8.258e+01  8.036e+01\n",
      "  9.614e+01  8.512e+01  9.629e+01  1.051e+02  1.074e+02  8.499e+01\n",
      "  9.197e+01  9.502e+01  9.450e+01  9.606e+01  9.780e+01  1.072e+02\n",
      "  9.417e+01  9.580e+01  9.771e+01  9.104e+01  1.059e+02  9.951e+01\n",
      "  1.155e+02  1.131e+02  9.591e+01  9.677e+01  1.135e+02  1.073e+02\n",
      "  9.131e+01  1.104e+02  1.038e+02  1.161e+02  1.154e+02  1.212e+02\n",
      "  1.150e+02  1.219e+02  1.035e+02  1.057e+02  9.778e+01  1.225e+02\n",
      "  1.016e+02  1.140e+02  1.133e+02  1.229e+02  1.106e+02  1.038e+02\n",
      "  1.115e+02  1.019e+02  1.100e+02  1.204e+02  1.037e+02  1.322e+02\n",
      "  1.191e+02  1.125e+02  1.290e+02  1.086e+02  1.147e+02  1.336e+02\n",
      "  1.132e+02  1.285e+02  1.094e+02  1.235e+02  1.277e+02  1.148e+02\n",
      "  1.188e+02  1.260e+02  1.277e+02  1.151e+02  1.233e+02  1.415e+02\n",
      "  1.217e+02  1.361e+02  1.190e+02  1.273e+02  1.295e+02  1.324e+02\n",
      "  1.365e+02  1.394e+02  1.370e+02  1.407e+02  1.436e+02  1.273e+02\n",
      "  1.428e+02  1.341e+02  1.268e+02  1.247e+02  1.429e+02  1.396e+02\n",
      "  1.231e+02  1.391e+02  1.233e+02  1.342e+02  1.401e+02  1.430e+02\n",
      "  1.287e+02  1.258e+02  1.423e+02  1.501e+02  1.499e+02  1.373e+02\n",
      "  1.443e+02  1.491e+02  1.542e+02  1.432e+02  1.553e+02  1.390e+02\n",
      "  1.366e+02  1.393e+02  1.529e+02  1.581e+02  1.461e+02  1.534e+02\n",
      "  1.372e+02  1.487e+02  1.470e+02  1.474e+02  1.406e+02  1.542e+02\n",
      "  1.562e+02  1.556e+02  1.593e+02  1.512e+02  1.636e+02  1.556e+02\n",
      "  1.655e+02  1.518e+02  1.610e+02  1.464e+02  1.435e+02  1.694e+02\n",
      "  1.531e+02  1.439e+02  1.616e+02  1.715e+02  1.671e+02  1.741e+02\n",
      "  1.731e+02  1.592e+02  1.530e+02  1.485e+02  1.552e+02  1.665e+02\n",
      "  1.753e+02  1.486e+02  1.735e+02  1.724e+02  1.707e+02  1.543e+02\n",
      "  1.526e+02  1.736e+02  1.712e+02  1.636e+02  1.634e+02  1.545e+02\n",
      "  1.838e+02  1.796e+02  1.842e+02  1.800e+02  1.698e+02  1.819e+02\n",
      "  1.630e+02  1.777e+02  1.651e+02  1.703e+02  1.852e+02  1.722e+02\n",
      "  1.868e+02  1.785e+02  1.698e+02  1.693e+02  1.621e+02  1.797e+02\n",
      "  1.882e+02  1.702e+02  1.784e+02  1.940e+02  1.768e+02  1.937e+02\n",
      "  1.908e+02  1.813e+02  1.861e+02  1.695e+02  1.835e+02  1.913e+02\n",
      "  1.759e+02  1.710e+02  1.709e+02  1.753e+02  1.781e+02  1.957e+02\n",
      "  1.858e+02  1.886e+02  1.824e+02  1.825e+02  1.906e+02  1.969e+02\n",
      "  1.804e+02  1.885e+02  1.953e+02  2.053e+02  1.851e+02  1.893e+02\n",
      "  1.951e+02  1.828e+02  1.973e+02  2.087e+02  1.882e+02  1.949e+02\n",
      "  1.845e+02  1.970e+02  2.111e+02  1.988e+02  1.894e+02  1.928e+02\n",
      "  2.028e+02  2.102e+02  1.986e+02  2.002e+02  2.103e+02  1.897e+02\n",
      "  2.155e+02  2.014e+02  1.979e+02  2.119e+02  1.967e+02  1.939e+02\n",
      "  1.977e+02  2.107e+02  1.940e+02  2.050e+02  1.991e+02  2.089e+02\n",
      "  1.971e+02  2.167e+02  2.217e+02  2.041e+02  2.056e+02  2.134e+02\n",
      "  2.182e+02  1.982e+02  2.172e+02  2.219e+02  2.218e+02  2.117e+02\n",
      "  2.237e+02  2.159e+02  2.056e+02  2.091e+02  2.188e+02  2.181e+02\n",
      "  2.261e+02  2.239e+02  2.094e+02  2.154e+02  2.273e+02  2.182e+02\n",
      "  2.118e+02  2.336e+02  2.195e+02  2.158e+02  2.223e+02  2.165e+02\n",
      "  2.161e+02  2.283e+02  2.329e+02  2.218e+02  2.148e+02  2.248e+02\n",
      "  2.230e+02  2.246e+02  2.192e+02  2.356e+02  2.191e+02  2.147e+02\n",
      "  2.350e+02  2.368e+02  2.222e+02  2.207e+02  2.334e+02  2.441e+02\n",
      "  2.246e+02  2.337e+02  2.259e+02  2.407e+02  2.330e+02  2.309e+02\n",
      "  2.397e+02  2.364e+02  2.270e+02  2.340e+02  2.507e+02  2.465e+02\n",
      "  2.384e+02  2.433e+02  2.283e+02  2.369e+02  2.518e+02  2.311e+02\n",
      "  2.555e+02  2.519e+02  2.476e+02  2.387e+02  2.308e+02  2.373e+02\n",
      "  2.512e+02  2.421e+02  2.541e+02  2.370e+02  2.557e+02  2.573e+02\n",
      "  2.537e+02  2.386e+02  2.397e+02  2.354e+02  2.355e+02  2.567e+02\n",
      "  2.497e+02  2.583e+02  2.445e+02  2.469e+02  2.638e+02  2.674e+02\n",
      "  2.411e+02  2.619e+02  2.557e+02  2.396e+02  2.585e+02  2.489e+02\n",
      "  2.515e+02  2.706e+02  2.643e+02  2.441e+02  2.634e+02  2.439e+02\n",
      "  2.706e+02  2.624e+02  2.639e+02  2.460e+02]\n"
     ]
    }
   ],
   "source": [
    "# Der zu addierende Zufallswert wird in einem Streifen von ±15 um die Werte der Funktion y = .5 * x + 11 \n",
    "# und die y-Werte des Datensatzes werden generiert.\n",
    "delta = np.random.uniform(-15 , 15, x.size)\n",
    "y = .5 * x + 11 + delta\n",
    "print(\"X === \", x)\n",
    "np.set_printoptions(precision=3)\n",
    "print(\"RES == \", y)"
   ]
  },
  {
   "cell_type": "code",
   "execution_count": 29,
   "metadata": {},
   "outputs": [],
   "source": [
    "# Das Dataset wird im Verhältnis von 80:20 in ein Trainingset \n",
    "# und ein Teset aufgeteilt\n",
    "x_train = x[:-200].reshape( (800, 1) )\n",
    "x_test = x[-200:].reshape( (200, 1) )\n",
    "y_train = y[:-200]\n",
    "y_test = y[-200:]"
   ]
  },
  {
   "cell_type": "code",
   "execution_count": 30,
   "metadata": {},
   "outputs": [],
   "source": [
    "# Ein Instanz der Klasse für lineare Regression wird erzeugt\n",
    "model = linear_model.LinearRegression()"
   ]
  },
  {
   "cell_type": "code",
   "execution_count": 31,
   "metadata": {},
   "outputs": [
    {
     "data": {
      "text/plain": [
       "LinearRegression()"
      ]
     },
     "execution_count": 31,
     "metadata": {},
     "output_type": "execute_result"
    }
   ],
   "source": [
    "# Das Modell wird mit den Trainsdaten (800 Einträgen) trainiert ... \n",
    "model.fit(x_train, y_train)"
   ]
  },
  {
   "cell_type": "code",
   "execution_count": 32,
   "metadata": {},
   "outputs": [
    {
     "name": "stdout",
     "output_type": "stream",
     "text": [
      "Coefficient: \n",
      " [0.5]\n"
     ]
    }
   ],
   "source": [
    "# ... und die Koeffizienten der linearen Regression ausgegeben.\n",
    "print('Coefficient: \\n', model.coef_)"
   ]
  },
  {
   "cell_type": "code",
   "execution_count": 33,
   "metadata": {},
   "outputs": [],
   "source": [
    "# Das trainierte Modell wird nun mit den Testdaten getestet. \n",
    "# Die zu den x-Werten des Testsets korrespondierenden Werte werden \n",
    "# mit dem Modell berechnet.\n",
    "y_pred = model.predict(x_test)"
   ]
  },
  {
   "cell_type": "code",
   "execution_count": 34,
   "metadata": {},
   "outputs": [
    {
     "name": "stdout",
     "output_type": "stream",
     "text": [
      "Mean squared error: 71.20\n",
      "r_2 statistic: 0.92\n"
     ]
    }
   ],
   "source": [
    "# Die Metriken zu den testwerten können nun ausgegeben werden.\n",
    "print(\"Mean squared error: %.2f\"\n",
    "      % mean_squared_error(y_test, y_pred))\n",
    "print('r_2 statistic: %.2f' % r2_score(y_test, y_pred))"
   ]
  },
  {
   "cell_type": "code",
   "execution_count": 35,
   "metadata": {},
   "outputs": [
    {
     "data": {
      "text/plain": [
       "<matplotlib.collections.PathCollection at 0x20a9e7e0160>"
      ]
     },
     "execution_count": 35,
     "metadata": {},
     "output_type": "execute_result"
    },
    {
     "data": {
      "image/png": "[encoded data removed]",
      "text/plain": [
       "<Figure size 432x288 with 1 Axes>"
      ]
     },
     "metadata": {
      "needs_background": "light"
     },
     "output_type": "display_data"
    }
   ],
   "source": [
    "# Die Ergebnisse werden visualisiert. \n",
    "# durch Ploten des Testsets\n",
    "plt.scatter(x_test, y_test)"
   ]
  },
  {
   "cell_type": "code",
   "execution_count": 36,
   "metadata": {},
   "outputs": [
    {
     "data": {
      "image/png": "[encoded data removed]",
      "text/plain": [
       "<Figure size 432x288 with 1 Axes>"
      ]
     },
     "metadata": {
      "needs_background": "light"
     },
     "output_type": "display_data"
    }
   ],
   "source": [
    "# und Ploten der durch lienare Regression gelerneten Funktion\n",
    "plt.scatter(x_test, y_test)\n",
    "plt.plot(x_test, y_pred, color='red')\n",
    "plt.show()"
   ]
  },
  {
   "cell_type": "code",
   "execution_count": null,
   "metadata": {},
   "outputs": [],
   "source": []
  },
  {
   "cell_type": "code",
   "execution_count": null,
   "metadata": {},
   "outputs": [],
   "source": []
  }
 ],
 "metadata": {
  "jupytext": {
   "cell_metadata_filter": "-all",
   "main_language": "python",
   "notebook_metadata_filter": "-all"
  },
  "kernelspec": {
   "display_name": "Python 3",
   "language": "python",
   "name": "python3"
  },
  "language_info": {
   "codemirror_mode": {
    "name": "ipython",
    "version": 3
   },
   "file_extension": ".py",
   "mimetype": "text/x-python",
   "name": "python",
   "nbconvert_exporter": "python",
   "pygments_lexer": "ipython3",
   "version": "3.8.5"
  }
 },
 "nbformat": 4,
 "nbformat_minor": 2
}
