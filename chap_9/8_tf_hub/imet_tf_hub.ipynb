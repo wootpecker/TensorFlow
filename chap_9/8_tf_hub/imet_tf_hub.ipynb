{
 "cells": [
  {
   "cell_type": "code",
   "execution_count": 1,
   "metadata": {},
   "outputs": [],
   "source": [
    "import tensorflow.compat.v1 as tf\n",
    "import tensorflow_hub as hub\n",
    "from tensorflow.keras.backend import eval\n",
    "import matplotlib\n",
    "import matplotlib.pyplot as plt\n",
    "import numpy as np\n",
    "from PIL import Image\n",
    "import os\n",
    "import pprint\n",
    "pp = pprint.PrettyPrinter()"
   ]
  },
  {
   "cell_type": "code",
   "execution_count": 2,
   "metadata": {},
   "outputs": [],
   "source": [
    "from operator import itemgetter"
   ]
  },
  {
   "cell_type": "code",
   "execution_count": 3,
   "metadata": {
    "lines_to_next_cell": 1
   },
   "outputs": [],
   "source": [
    "# Siehe https://github.com/tensorflow/hub/issues/350\n",
    "tf.disable_eager_execution()"
   ]
  },
  {
   "cell_type": "code",
   "execution_count": 4,
   "metadata": {
    "lines_to_next_cell": 1
   },
   "outputs": [],
   "source": [
    "def show_top_classes(logits, top_classes):\n",
    "    class_indexes = np.argpartition(logits, -top_classes)[-top_classes:]\n",
    "    pred = np.array(logits[class_indexes])\n",
    "    all_scores = []\n",
    "    for i in class_indexes:\n",
    "        all_scores.append([met_labels[i],logits[i]])\n",
    "\n",
    "    all_scores.sort(key=lambda tup: tup[1])\n",
    "    all_scores = all_scores[::-1]\n",
    "    return all_scores"
   ]
  },
  {
   "cell_type": "code",
   "execution_count": 5,
   "metadata": {},
   "outputs": [],
   "source": [
    "met_labels = np.genfromtxt(\"imetv1_labelmap.csv\",delimiter=',',dtype='str',usecols=[1],skip_header=True)"
   ]
  },
  {
   "cell_type": "code",
   "execution_count": 6,
   "metadata": {},
   "outputs": [
    {
     "name": "stdout",
     "output_type": "stream",
     "text": [
      "INFO:tensorflow:Saver not created because there are no variables in the graph to restore\n"
     ]
    },
    {
     "name": "stderr",
     "output_type": "stream",
     "text": [
      "INFO:tensorflow:Saver not created because there are no variables in the graph to restore\n"
     ]
    },
    {
     "name": "stdout",
     "output_type": "stream",
     "text": [
      "Eingabedimension vom Bild: H:299 px X W:299 px \n"
     ]
    }
   ],
   "source": [
    "module = hub.Module(\"https://tfhub.dev/metmuseum/vision/classifier/imet_attributes_V1/1\")\n",
    "print(\"Eingabedimension vom Bild: H:{} px X W:{} px \".format(hub.get_expected_image_size(module)[0],hub.get_expected_image_size(module)[1]))"
   ]
  },
  {
   "cell_type": "code",
   "execution_count": 7,
   "metadata": {},
   "outputs": [
    {
     "name": "stdout",
     "output_type": "stream",
     "text": [
      "{'images': <hub.ParsedTensorInfo shape=(None, 299, 299, 3) dtype=float32 is_sparse=False>}\n",
      "{'default': <hub.ParsedTensorInfo shape=(None, 1103) dtype=float32 is_sparse=False>}\n"
     ]
    }
   ],
   "source": [
    "# Hier bekommen wir zusätzliche Informationen über das Module von TensorFlow Hub\n",
    "# Eingabe\n",
    "print(module.get_input_info_dict()) \n",
    "# Ausgabe\n",
    "print(module.get_output_info_dict())"
   ]
  },
  {
   "cell_type": "code",
   "execution_count": 8,
   "metadata": {},
   "outputs": [],
   "source": [
    "# Eingabebilder \n",
    "input_image = plt.imread(\"DT11140.jpg\")\n",
    "input_image = input_image.astype(np.float32)[np.newaxis, ...] / 255.\n",
    "input_image = tf.image.resize(input_image, (299, 299))"
   ]
  },
  {
   "cell_type": "code",
   "execution_count": 9,
   "metadata": {},
   "outputs": [
    {
     "name": "stdout",
     "output_type": "stream",
     "text": [
      "INFO:tensorflow:Saver not created because there are no variables in the graph to restore\n"
     ]
    },
    {
     "name": "stderr",
     "output_type": "stream",
     "text": [
      "INFO:tensorflow:Saver not created because there are no variables in the graph to restore\n"
     ]
    }
   ],
   "source": [
    "logits = eval(module(input_image)[0])"
   ]
  },
  {
   "cell_type": "code",
   "execution_count": 10,
   "metadata": {},
   "outputs": [
    {
     "name": "stdout",
     "output_type": "stream",
     "text": [
      "[['tag::buddhism', 0.94844884],\n",
      " ['culture::korea', 0.73250467],\n",
      " ['tag::buddha', 0.087355405],\n",
      " ['culture::tibet', 0.04219383],\n",
      " ['culture::indonesia', 0.020471223]]\n"
     ]
    }
   ],
   "source": [
    "pp.pprint(show_top_classes(logits,5))"
   ]
  },
  {
   "cell_type": "code",
   "execution_count": null,
   "metadata": {},
   "outputs": [],
   "source": []
  }
 ],
 "metadata": {
  "jupytext": {
   "cell_metadata_filter": "-all",
   "main_language": "python",
   "notebook_metadata_filter": "-all"
  },
  "kernelspec": {
   "display_name": "Python 3",
   "language": "python",
   "name": "python3"
  },
  "language_info": {
   "codemirror_mode": {
    "name": "ipython",
    "version": 3
   },
   "file_extension": ".py",
   "mimetype": "text/x-python",
   "name": "python",
   "nbconvert_exporter": "python",
   "pygments_lexer": "ipython3",
   "version": "3.7.3"
  }
 },
 "nbformat": 4,
 "nbformat_minor": 2
}
