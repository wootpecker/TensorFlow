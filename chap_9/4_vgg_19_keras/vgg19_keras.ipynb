{
 "cells": [
  {
   "cell_type": "markdown",
   "metadata": {},
   "source": [
    "\n",
    "Projekt 4: Benutzung vom Modell VGG-19 mit Keras (TensorFlow 2)\n"
   ]
  },
  {
   "cell_type": "code",
   "execution_count": null,
   "metadata": {},
   "outputs": [],
   "source": [
    "import tensorflow as tf\n",
    "import numpy as np\n",
    "import json\n",
    "import matplotlib.pyplot as plt "
   ]
  },
  {
   "cell_type": "code",
   "execution_count": null,
   "metadata": {},
   "outputs": [],
   "source": [
    "from tensorflow import keras\n",
    "from tensorflow.keras.applications import VGG19\n",
    "from tensorflow.keras.models import load_model\n",
    "from PIL import Image"
   ]
  },
  {
   "cell_type": "code",
   "execution_count": null,
   "metadata": {
    "lines_to_next_cell": 1
   },
   "outputs": [],
   "source": [
    "# Initialisierung des VGG19 Modells\n",
    "model = VGG19(include_top=True,weights='imagenet')\n",
    "model.summary()"
   ]
  },
  {
   "cell_type": "code",
   "execution_count": null,
   "metadata": {
    "lines_to_next_cell": 1
   },
   "outputs": [],
   "source": [
    "def get_imagenet_class(index):\n",
    "    classes = json.load(open(\"imagenet_class_index.json\")) \n",
    "    # imagenet_class_index.json muss von folgender URL heruntergeladen werden:\n",
    "    # https://s3.amazonaws.com/deep-learning-models/image-models/imagenet_class_index.json\n",
    "    return classes[str(index)][1]"
   ]
  },
  {
   "cell_type": "code",
   "execution_count": null,
   "metadata": {
    "lines_to_next_cell": 1
   },
   "outputs": [],
   "source": [
    "# Vorhersage für ein Bild\n",
    "def predict_image(img):\n",
    "    img = np.expand_dims(img,axis=0)\n",
    "    image_net_index =  np.argmax(model.predict(img))\n",
    "    return get_imagenet_class(image_net_index)"
   ]
  },
  {
   "cell_type": "code",
   "execution_count": null,
   "metadata": {
    "lines_to_next_cell": 1
   },
   "outputs": [],
   "source": [
    "# Anzeige des Bildes mit Titel\n",
    "def show_image(img, title):\n",
    "    plt.title(\"Erkannt : {}\\n\".format(title))\n",
    "    plt.axis('off')\n",
    "    plt.imshow(img,interpolation='bicubic')\n",
    "    plt.show()"
   ]
  },
  {
   "cell_type": "code",
   "execution_count": null,
   "metadata": {},
   "outputs": [],
   "source": [
    "#Test\n",
    "img_path = \"./img/cat.jpg\"\n",
    "jpgfile = np.array(Image.open(img_path).convert('RGB').resize((224, 224))) # * 255\n",
    "prediction = predict_image(jpgfile)\n",
    "show_image(jpgfile,prediction)"
   ]
  }
 ],
 "metadata": {
  "jupytext": {
   "cell_metadata_filter": "-all",
   "main_language": "python",
   "notebook_metadata_filter": "-all"
  },
  "kernelspec": {
   "display_name": "Python 3",
   "language": "python",
   "name": "python3"
  },
  "language_info": {
   "codemirror_mode": {
    "name": "ipython",
    "version": 3
   },
   "file_extension": ".py",
   "mimetype": "text/x-python",
   "name": "python",
   "nbconvert_exporter": "python",
   "pygments_lexer": "ipython3",
   "version": "3.7.3"
  }
 },
 "nbformat": 4,
 "nbformat_minor": 2
}
