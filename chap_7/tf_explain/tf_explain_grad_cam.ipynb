{
 "cells": [
  {
   "cell_type": "code",
   "execution_count": null,
   "metadata": {},
   "outputs": [],
   "source": [
    "import tensorflow as tf\n",
    "import cv2\n",
    "import numpy as np\n",
    "import requests\n",
    "import urllib"
   ]
  },
  {
   "cell_type": "code",
   "execution_count": null,
   "metadata": {},
   "outputs": [],
   "source": [
    "from tensorflow import keras\n",
    "from PIL import Image"
   ]
  },
  {
   "cell_type": "code",
   "execution_count": null,
   "metadata": {},
   "outputs": [],
   "source": [
    "from tf_explain.core.grad_cam import GradCAM"
   ]
  },
  {
   "cell_type": "code",
   "execution_count": null,
   "metadata": {},
   "outputs": [],
   "source": [
    "# Das Bild wird für das Modell auf 224x224 Pixel reduziert \n",
    "# und die Pixelwerte normalisiert\n",
    "test_image = Image.open(\"cat.jpg\")\n",
    "test_image = test_image.resize((224,224), Image.ANTIALIAS)\n",
    "test_image = np.array(test_image,dtype=\"float32\")\n",
    "test_image /= 255\n",
    "test_image = test_image.reshape(224,224,3)"
   ]
  },
  {
   "cell_type": "markdown",
   "metadata": {},
   "source": [
    "Vorhersage von einem Modell\n",
    "model = tf.keras.models.load_model('cifar_model.h5')"
   ]
  },
  {
   "cell_type": "code",
   "execution_count": null,
   "metadata": {},
   "outputs": [],
   "source": [
    "model = tf.keras.applications.VGG16(include_top=True,weights=\"imagenet\")\n",
    "model.summary()\n",
    "img = tf.keras.preprocessing.image.load_img(\"cat.jpg\", target_size=(224, 224))\n",
    "img = tf.keras.preprocessing.image.img_to_array(img)\n",
    "data = ([test_image], None)\n",
    "explainer = GradCAM()"
   ]
  },
  {
   "cell_type": "code",
   "execution_count": null,
   "metadata": {
    "lines_to_next_cell": 2
   },
   "outputs": [],
   "source": [
    "tabby_cat_class_index = 281"
   ]
  },
  {
   "cell_type": "code",
   "execution_count": null,
   "metadata": {},
   "outputs": [],
   "source": [
    "# Den class_index findet man innerhalb der imagenet_class_index.json Datei\n",
    "# siehe https://s3.amazonaws.com/deep-learning-models/image-models/imagenet_class_index.json\n",
    "# Die nummer 867 => trailer_truck\n",
    "# 717 => pickup\n",
    "# 301 => ladybug\n",
    "grid = explainer.explain(data, model, class_index=tabby_cat_class_index,layer_name=\"block5_conv3\")\n",
    "explainer.save(grid, \".\", \"grad_cam.png\")"
   ]
  }
 ],
 "metadata": {
  "jupytext": {
   "cell_metadata_filter": "-all",
   "main_language": "python",
   "notebook_metadata_filter": "-all"
  }
 },
 "nbformat": 4,
 "nbformat_minor": 2
}
