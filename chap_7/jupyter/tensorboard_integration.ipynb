{
 "cells": [
  {
   "cell_type": "code",
   "execution_count": 34,
   "metadata": {},
   "outputs": [
    {
     "name": "stdout",
     "output_type": "stream",
     "text": [
      "The tensorboard extension is already loaded. To reload it, use:\n",
      "  %reload_ext tensorboard\n"
     ]
    }
   ],
   "source": [
    "%load_ext tensorboard"
   ]
  },
  {
   "cell_type": "code",
   "execution_count": 28,
   "metadata": {},
   "outputs": [],
   "source": [
    "import tensorflow as tf\n",
    "import numpy as np\n",
    "\n",
    "from tensorflow import keras\n",
    "from tensorflow.keras.models import Sequential, load_model, Model\n",
    "from tensorflow.keras.optimizers import SGD\n",
    "from tensorflow.keras.layers import Dense, Activation, Input, InputLayer, BatchNormalization, MaxPool2D, Conv2D,Flatten,Dense\n"
   ]
  },
  {
   "cell_type": "code",
   "execution_count": 29,
   "metadata": {},
   "outputs": [
    {
     "name": "stdout",
     "output_type": "stream",
     "text": [
      "Model: \"sequential_5\"\n",
      "_________________________________________________________________\n",
      "Layer (type)                 Output Shape              Param #   \n",
      "=================================================================\n",
      "First_Layer (Dense)          (None, 1024)              3072      \n",
      "_________________________________________________________________\n",
      "Relu_Activation (Activation) (None, 1024)              0         \n",
      "_________________________________________________________________\n",
      "Dense_Layer (Dense)          (None, 1)                 1025      \n",
      "_________________________________________________________________\n",
      "Sigmoid_Activation (Activati (None, 1)                 0         \n",
      "=================================================================\n",
      "Total params: 4,097\n",
      "Trainable params: 4,097\n",
      "Non-trainable params: 0\n",
      "_________________________________________________________________\n"
     ]
    }
   ],
   "source": [
    "# Einfaches XOR-Modell  mit Keras\n",
    "input_data = np.array([[0,0],[0,1],[1,0],[1,1]])\n",
    "output_data = np.array([[0],[1],[1],[0]])\n",
    "\n",
    "xor_model = Sequential()\n",
    "xor_model.add(Dense(1024, input_dim=2,name=\"First_Layer\"))\n",
    "xor_model.add(Activation('relu',name=\"Relu_Activation\"))\n",
    "xor_model.add(Dense(1,name=\"Dense_Layer\"))\n",
    "xor_model.add(Activation('sigmoid',name=\"Sigmoid_Activation\"))\n",
    "xor_model.summary()\n",
    "sgd = SGD(lr=0.01)"
   ]
  },
  {
   "cell_type": "code",
   "execution_count": 35,
   "metadata": {},
   "outputs": [],
   "source": [
    "\n",
    "train_summary_writer = tf.summary.create_file_writer(\"logs\")\n",
    "with train_summary_writer.as_default():\n",
    "        tf.summary.text(\"Textausgabe\",\"Hello TensorBoard in Jupyter!\",1)\n",
    "# Definition eines neuen Callbacks\n",
    "class MyTensorBoardCallback(keras.callbacks.Callback):\n",
    "    # Wir wollen am Ende jedes Epochs zwei tf.summary rausschreiben\n",
    "    def on_epoch_end(self,epoch,logs=None):\n",
    "        with train_summary_writer.as_default():\n",
    "            with tf.name_scope('Meine Metriken'):\n",
    "                tf.summary.scalar('Aktueller Loss-Wert', logs[\"loss\"],step=epoch,description=\"Der aktuelle Loss vom Modell\")\n",
    "                tf.summary.scalar('Epoche', epoch ,step=epoch,description=\"Die aktuelle Epoche während des Trainings\")\n",
    "\n",
    "# Eigenes Callback\n",
    "my_tfb_cb = MyTensorBoardCallback()"
   ]
  },
  {
   "cell_type": "code",
   "execution_count": 31,
   "metadata": {},
   "outputs": [],
   "source": [
    "xor_model.compile(loss=tf.keras.losses.MSE, optimizer=sgd, metrics=[\"mae\",\"accuracy\"])\n",
    "history = xor_model.fit(input_data, output_data, batch_size=1, epochs=1000, callbacks=[my_tfb_cb],verbose=0)"
   ]
  },
  {
   "cell_type": "code",
   "execution_count": 1,
   "metadata": {},
   "outputs": [
    {
     "ename": "NameError",
     "evalue": "name 'os' is not defined",
     "output_type": "error",
     "traceback": [
      "\u001b[1;31m---------------------------------------------------------------------------\u001b[0m",
      "\u001b[1;31mNameError\u001b[0m                                 Traceback (most recent call last)",
      "\u001b[1;32m<ipython-input-1-78a4da728fbb>\u001b[0m in \u001b[0;36m<module>\u001b[1;34m\u001b[0m\n\u001b[0;32m      1\u001b[0m \u001b[0mlogs_base_dir\u001b[0m \u001b[1;33m=\u001b[0m \u001b[1;34m\"./logs\"\u001b[0m\u001b[1;33m\u001b[0m\u001b[1;33m\u001b[0m\u001b[0m\n\u001b[1;32m----> 2\u001b[1;33m \u001b[0mos\u001b[0m\u001b[1;33m.\u001b[0m\u001b[0mmakedirs\u001b[0m\u001b[1;33m(\u001b[0m\u001b[0mlogs_base_dir\u001b[0m\u001b[1;33m,\u001b[0m \u001b[0mexist_ok\u001b[0m\u001b[1;33m=\u001b[0m\u001b[1;32mTrue\u001b[0m\u001b[1;33m)\u001b[0m\u001b[1;33m\u001b[0m\u001b[1;33m\u001b[0m\u001b[0m\n\u001b[0m\u001b[0;32m      3\u001b[0m \u001b[0mget_ipython\u001b[0m\u001b[1;33m(\u001b[0m\u001b[1;33m)\u001b[0m\u001b[1;33m.\u001b[0m\u001b[0mrun_line_magic\u001b[0m\u001b[1;33m(\u001b[0m\u001b[1;34m'tensorboard'\u001b[0m\u001b[1;33m,\u001b[0m \u001b[1;34m'--logdir {logs_base_dir}'\u001b[0m\u001b[1;33m)\u001b[0m\u001b[1;33m\u001b[0m\u001b[1;33m\u001b[0m\u001b[0m\n",
      "\u001b[1;31mNameError\u001b[0m: name 'os' is not defined"
     ]
    }
   ],
   "source": [
    "logs_base_dir = \"./logs\"\n",
    "os.makedirs(logs_base_dir, exist_ok=True)\n",
    "%tensorboard --logdir {logs_base_dir}"
   ]
  },
  {
   "cell_type": "code",
   "execution_count": null,
   "metadata": {},
   "outputs": [],
   "source": []
  }
 ],
 "metadata": {
  "kernelspec": {
   "display_name": "Python 3",
   "language": "python",
   "name": "python3"
  },
  "language_info": {
   "codemirror_mode": {
    "name": "ipython",
    "version": 3
   },
   "file_extension": ".py",
   "mimetype": "text/x-python",
   "name": "python",
   "nbconvert_exporter": "python",
   "pygments_lexer": "ipython3",
   "version": "3.7.3"
  }
 },
 "nbformat": 4,
 "nbformat_minor": 2
}