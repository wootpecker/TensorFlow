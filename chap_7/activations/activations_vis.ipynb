{
 "cells": [
  {
   "cell_type": "markdown",
   "metadata": {},
   "source": [
    "\n",
    " Visualisierung der Aktivierungen mit TensorFlow 2.x\n"
   ]
  },
  {
   "cell_type": "code",
   "execution_count": 1,
   "metadata": {},
   "outputs": [],
   "source": [
    "import tensorflow as tf\n",
    "import numpy as np\n",
    "import requests as requests\n",
    "import matplotlib.pyplot as plt "
   ]
  },
  {
   "cell_type": "code",
   "execution_count": 2,
   "metadata": {},
   "outputs": [],
   "source": [
    "from PIL import Image\n",
    "from sklearn.utils import shuffle\n",
    "from tensorflow import keras\n",
    "from tensorflow.keras.models import Sequential, load_model, Model\n",
    "from tensorflow.keras.optimizers import SGD\n",
    "from tensorflow.keras.layers import Dense, Activation, Input, InputLayer, BatchNormalization, MaxPool2D, Conv2D,Flatten,Dense\n",
    "from tensorflow.keras.datasets import mnist\n",
    "from tensorflow.keras.utils import to_categorical"
   ]
  },
  {
   "cell_type": "code",
   "execution_count": 3,
   "metadata": {
    "lines_to_next_cell": 1
   },
   "outputs": [],
   "source": [
    "# Laden der MNIST Daten\n",
    "(train_data, train_labels), (eval_data, eval_labels) = mnist.load_data()\n",
    "train_data = train_data.reshape(train_data.shape[0], 28, 28, 1)\n",
    "train_labels = to_categorical(train_labels, 10)\n",
    "eval_labels = to_categorical(eval_labels,10)"
   ]
  },
  {
   "cell_type": "code",
   "execution_count": 4,
   "metadata": {
    "lines_to_next_cell": 1
   },
   "outputs": [],
   "source": [
    "# Modelaufbau \n",
    "def train_model():\n",
    "\n",
    "    model = Sequential()\n",
    "    model.add(Conv2D(32,(5,5),padding=\"same\",name=\"Conv2D_1\",input_shape=(28, 28,1),activation=\"relu\"))\n",
    "    model.add(MaxPool2D(padding='same',name=\"Max_Pooling_1\",pool_size=(2,2),strides=2))\n",
    "\n",
    "    model.add(Conv2D(64,(5,5),padding=\"same\",name=\"Conv2D_2\",activation=\"relu\"))\n",
    "    model.add(MaxPool2D(padding='same',name=\"Max_Pooling_2\",pool_size=(2,2),strides=2))\n",
    "    model.add(Flatten())\n",
    "\n",
    "    model.add(Dense(1024,activation='relu',kernel_initializer='random_uniform',name=\"Dense_fc_1\"))\n",
    "    model.add(Dense(512,activation='relu',kernel_initializer='random_uniform',name=\"Dense_fc_2\"))\n",
    "    model.add(Dense(10, activation='softmax',name=\"Ausgabe\"))\n",
    "\n",
    "    model.compile(loss=keras.losses.categorical_crossentropy, \n",
    "    optimizer=keras.optimizers.Adadelta(), metrics = [\"accuracy\",\"mse\",tf.keras.metrics.categorical_accuracy])\n",
    "\n",
    "    model.fit(train_data,train_labels, batch_size=64, epochs=10)\n",
    "    model.save('my_model.h5')"
   ]
  },
  {
   "cell_type": "code",
   "execution_count": 5,
   "metadata": {},
   "outputs": [],
   "source": [
    "# Visualisierung der Layers\n",
    "def visualize_layers_output(model,layer_names,input,first_image):\n",
    "    \n",
    "    feature_maps = []\n",
    "    fig = plt.figure(1)\n",
    "\n",
    "    # Eingabebild wird dargestellt\n",
    "    # Ggfs. für ein anderes Modell, \n",
    "    # muss dieser Block verändert werden\n",
    "    ax = fig.add_subplot(len(layer_names)+1,1,1)\n",
    "    ax.imshow(first_image,cmap=plt.gray())\n",
    "    ax.set_axis_off()\n",
    "\n",
    "    for i, layer_name in enumerate(layer_names):\n",
    "        try:\n",
    "            model.get_layer(layer_name)\n",
    "        except ValueError as err:\n",
    "            print(\"{} : Modell besitzt keinen Layer mit diesem Namen \".format(err))\n",
    "\n",
    "        output_of_layer = model.get_layer(layer_name).output\n",
    "\n",
    "        m = Model(inputs=model.input,outputs=output_of_layer)\n",
    "\n",
    "        # Feature Map wird generiert\n",
    "        feature_map = m.predict(input)\n",
    "\n",
    "        ax = fig.add_subplot(len(layer_names)+1,1,i+2)\n",
    "        \n",
    "        # Überprüfung\n",
    "        if len(feature_map.shape) == 4: # Wenn 4 dann ist es ein Bild (1,28,28,3)\n",
    "            feature_maps.append(np.hstack(np.transpose(feature_map[0], (2, 0, 1))))\n",
    "        else: \n",
    "            if len(feature_map.shape) == 2: # Ein 1D-Array \n",
    "                feature_maps.append(np.expand_dims(feature_map[0],0))\n",
    "            \n",
    "        ax.imshow(feature_maps[i],cmap='jet')\n",
    "        ax.set_title(layer_name)\n",
    "        ax.set_axis_off()\n",
    "        del m\n",
    "    \n",
    "    plt.show()"
   ]
  },
  {
   "cell_type": "code",
   "execution_count": 6,
   "metadata": {},
   "outputs": [
    {
     "name": "stdout",
     "output_type": "stream",
     "text": [
      "Train on 60000 samples\n",
      "Epoch 1/10\n",
      "60000/60000 [==============================] - 76s 1ms/sample - loss: 5.1818 - accuracy: 0.5303 - mse: 0.0798 - categorical_accuracy: 0.5303\n",
      "Epoch 2/10\n",
      "60000/60000 [==============================] - 78s 1ms/sample - loss: 0.8065 - accuracy: 0.8385 - mse: 0.0262 - categorical_accuracy: 0.8385\n",
      "Epoch 3/10\n",
      "60000/60000 [==============================] - 74s 1ms/sample - loss: 0.5272 - accuracy: 0.8884 - mse: 0.0180 - categorical_accuracy: 0.8884\n",
      "Epoch 4/10\n",
      "60000/60000 [==============================] - 70s 1ms/sample - loss: 0.4091 - accuracy: 0.9107 - mse: 0.0144 - categorical_accuracy: 0.9107\n",
      "Epoch 5/10\n",
      "60000/60000 [==============================] - 71s 1ms/sample - loss: 0.3394 - accuracy: 0.9236 - mse: 0.0122 - categorical_accuracy: 0.9236\n",
      "Epoch 6/10\n",
      "60000/60000 [==============================] - 74s 1ms/sample - loss: 0.2920 - accuracy: 0.9328 - mse: 0.0107 - categorical_accuracy: 0.9328\n",
      "Epoch 7/10\n",
      "60000/60000 [==============================] - 73s 1ms/sample - loss: 0.2581 - accuracy: 0.9402 - mse: 0.0095 - categorical_accuracy: 0.9402\n",
      "Epoch 8/10\n",
      "60000/60000 [==============================] - 73s 1ms/sample - loss: 0.2320 - accuracy: 0.9454 - mse: 0.0087 - categorical_accuracy: 0.9454\n",
      "Epoch 9/10\n",
      "60000/60000 [==============================] - 71s 1ms/sample - loss: 0.2115 - accuracy: 0.9502 - mse: 0.0079 - categorical_accuracy: 0.9502\n",
      "Epoch 10/10\n",
      "60000/60000 [==============================] - 73s 1ms/sample - loss: 0.1940 - accuracy: 0.9531 - mse: 0.0074 - categorical_accuracy: 0.9531\n"
     ]
    }
   ],
   "source": [
    "# Optional: Training des Modells \n",
    "train_model()"
   ]
  },
  {
   "cell_type": "code",
   "execution_count": null,
   "metadata": {},
   "outputs": [],
   "source": []
  },
  {
   "cell_type": "code",
   "execution_count": 7,
   "metadata": {},
   "outputs": [
    {
     "name": "stdout",
     "output_type": "stream",
     "text": [
      "Model: \"sequential\"\n",
      "_________________________________________________________________\n",
      "Layer (type)                 Output Shape              Param #   \n",
      "=================================================================\n",
      "Conv2D_1 (Conv2D)            (None, 28, 28, 32)        832       \n",
      "_________________________________________________________________\n",
      "Max_Pooling_1 (MaxPooling2D) (None, 14, 14, 32)        0         \n",
      "_________________________________________________________________\n",
      "Conv2D_2 (Conv2D)            (None, 14, 14, 64)        51264     \n",
      "_________________________________________________________________\n",
      "Max_Pooling_2 (MaxPooling2D) (None, 7, 7, 64)          0         \n",
      "_________________________________________________________________\n",
      "flatten (Flatten)            (None, 3136)              0         \n",
      "_________________________________________________________________\n",
      "Dense_fc_1 (Dense)           (None, 1024)              3212288   \n",
      "_________________________________________________________________\n",
      "Dense_fc_2 (Dense)           (None, 512)               524800    \n",
      "_________________________________________________________________\n",
      "Ausgabe (Dense)              (None, 10)                5130      \n",
      "=================================================================\n",
      "Total params: 3,794,314\n",
      "Trainable params: 3,794,314\n",
      "Non-trainable params: 0\n",
      "_________________________________________________________________\n"
     ]
    }
   ],
   "source": [
    "# oder direkte benutzung eines existierenden Modells\n",
    "model = tf.keras.models.load_model(\"my_model.h5\")\n",
    "model.summary()"
   ]
  },
  {
   "cell_type": "code",
   "execution_count": 8,
   "metadata": {
    "lines_to_next_cell": 2
   },
   "outputs": [
    {
     "data": {
      "image/png": "[encoded data removed]",
      "text/plain": [
       "<Figure size 432x288 with 8 Axes>"
      ]
     },
     "metadata": {
      "needs_background": "light"
     },
     "output_type": "display_data"
    }
   ],
   "source": [
    "# Auswahl der Schichten des Modells für die Visualisierung\n",
    "layers = [\"Conv2D_1\",\"Max_Pooling_1\",\"Conv2D_2\",\"Max_Pooling_2\",\"Dense_fc_1\",\"Dense_fc_2\",\"Ausgabe\"]\n",
    "input = train_data[8:9]\n",
    "img = train_data[8:9]\n",
    "visualize_layers_output(model,layers,input,first_image=img.reshape(28,28))"
   ]
  },
  {
   "cell_type": "code",
   "execution_count": 9,
   "metadata": {},
   "outputs": [
    {
     "data": {
      "text/plain": [
       "'\\nvgg = keras.applications.VGG16()\\nvgg.summary()\\nimg_path = \"./samples/cat.jpg\"\\nimg = np.array(Image.open(img_path).convert(\\'RGB\\').resize((224, 224)))\\ninput = np.expand_dims(img,axis=0) \\nvisualize_layers_output(vgg,[\"block1_conv2\",\"block3_conv2\"],input,first_image=img)\\n'"
      ]
     },
     "execution_count": 9,
     "metadata": {},
     "output_type": "execute_result"
    }
   ],
   "source": [
    "# Optionales Beispiel mit VGG16\n",
    "'''\n",
    "vgg = keras.applications.VGG16()\n",
    "vgg.summary()\n",
    "img_path = \"./samples/cat.jpg\"\n",
    "img = np.array(Image.open(img_path).convert('RGB').resize((224, 224)))\n",
    "input = np.expand_dims(img,axis=0) \n",
    "visualize_layers_output(vgg,[\"block1_conv2\",\"block3_conv2\"],input,first_image=img)\n",
    "'''"
   ]
  }
 ],
 "metadata": {
  "jupytext": {
   "cell_metadata_filter": "-all",
   "main_language": "python",
   "notebook_metadata_filter": "-all"
  },
  "kernelspec": {
   "display_name": "Python 3",
   "language": "python",
   "name": "python3"
  },
  "language_info": {
   "codemirror_mode": {
    "name": "ipython",
    "version": 3
   },
   "file_extension": ".py",
   "mimetype": "text/x-python",
   "name": "python",
   "nbconvert_exporter": "python",
   "pygments_lexer": "ipython3",
   "version": "3.7.3"
  }
 },
 "nbformat": 4,
 "nbformat_minor": 2
}