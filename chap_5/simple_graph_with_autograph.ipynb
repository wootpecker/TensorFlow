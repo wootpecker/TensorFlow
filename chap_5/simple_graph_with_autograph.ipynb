{
 "cells": [
  {
   "cell_type": "code",
   "execution_count": null,
   "metadata": {},
   "outputs": [],
   "source": [
    "import tensorflow as tf\n",
    "import numpy as np"
   ]
  },
  {
   "cell_type": "code",
   "execution_count": null,
   "metadata": {},
   "outputs": [],
   "source": [
    "tf.summary.trace_on(graph=True,profiler=True)\n",
    "#tf.config.experimental_run_functions_eagerly(True)"
   ]
  },
  {
   "cell_type": "code",
   "execution_count": null,
   "metadata": {
    "lines_to_next_cell": 1
   },
   "outputs": [],
   "source": [
    "# Initialisierung der Variablen \n",
    "a = tf.Variable(3.0, name=\"Variable_a\")\n",
    "b = tf.Variable(4.0, name=\"Variable_b\")\n",
    "c = tf.Variable(1.0, name=\"Variable_c\")\n",
    "d = tf.Variable(2.0, name=\"Variable_d\")"
   ]
  },
  {
   "cell_type": "code",
   "execution_count": null,
   "metadata": {
    "lines_to_next_cell": 1
   },
   "outputs": [],
   "source": [
    "@tf.function\n",
    "def my_function(a,b,c,d):\n",
    "    x_1 = tf.multiply(a, b, \"Multiplikation\")\n",
    "    x_2 = tf.add(c, d, \"Addieren\")\n",
    "    x_3 = tf.subtract(x_1, x_2, \"Subtrahieren\")\n",
    "    result = tf.sqrt(x_3, \"Wurzel\")\n",
    "    return result;"
   ]
  },
  {
   "cell_type": "code",
   "execution_count": null,
   "metadata": {},
   "outputs": [],
   "source": [
    "with tf.device(\"/device:GPU:0\"):\n",
    "    res = my_function(a,b,c,d)"
   ]
  },
  {
   "cell_type": "code",
   "execution_count": null,
   "metadata": {},
   "outputs": [],
   "source": [
    "print(tf.autograph.to_code(my_function.python_function))"
   ]
  },
  {
   "cell_type": "code",
   "execution_count": null,
   "metadata": {},
   "outputs": [],
   "source": [
    "writer = tf.summary.create_file_writer(\"./logs\")\n",
    "with writer.as_default():\n",
    "    tf.summary.trace_export(\n",
    "      name=\"export_prfil\",\n",
    "      step = 0,\n",
    "      profiler_outdir=\"logs\")"
   ]
  },
  {
   "cell_type": "code",
   "execution_count": null,
   "metadata": {},
   "outputs": [],
   "source": [
    "print(\"Ergebnis der Berechnung des Graphen:{}\".format(res.numpy()))"
   ]
  }
 ],
 "metadata": {
  "jupytext": {
   "cell_metadata_filter": "-all",
   "main_language": "python",
   "notebook_metadata_filter": "-all"
  }
 },
 "nbformat": 4,
 "nbformat_minor": 2
}
