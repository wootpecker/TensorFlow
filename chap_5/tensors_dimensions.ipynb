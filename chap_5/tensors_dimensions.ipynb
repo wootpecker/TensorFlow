{
 "cells": [
  {
   "cell_type": "markdown",
   "metadata": {},
   "source": [
    "\n",
    "Benutzung von Tensoren mit TensorFlow 2.x\n"
   ]
  },
  {
   "cell_type": "code",
   "execution_count": null,
   "metadata": {
    "lines_to_next_cell": 2
   },
   "outputs": [],
   "source": [
    "import tensorflow as tf\n",
    "import numpy as np"
   ]
  },
  {
   "cell_type": "code",
   "execution_count": null,
   "metadata": {},
   "outputs": [],
   "source": [
    "my_scalar = tf.constant(1,name=\"mein_Skalar\")\n",
    "print(my_scalar) \n",
    "tf.print(my_scalar)"
   ]
  },
  {
   "cell_type": "code",
   "execution_count": null,
   "metadata": {},
   "outputs": [],
   "source": [
    "my_scalar = tf.Variable(1)"
   ]
  },
  {
   "cell_type": "code",
   "execution_count": null,
   "metadata": {},
   "outputs": [],
   "source": [
    "#Ausgabe: Tensor(\"Const_2:0\", shape=(1, 1), dtype=int32)\n",
    "tensor_0d = tf.constant(3)\n",
    "print(tensor_0d)"
   ]
  },
  {
   "cell_type": "code",
   "execution_count": null,
   "metadata": {},
   "outputs": [],
   "source": [
    "tensor_1d = tf.constant([1,2,3,4])\n",
    "print(tensor_1d)"
   ]
  },
  {
   "cell_type": "code",
   "execution_count": null,
   "metadata": {},
   "outputs": [],
   "source": [
    "tensor_1d_with_strings = tf.constant([\"Hallo\",\"Welt\",\"dies\",\"ist\",\"ein 1D Tensor!\"])\n",
    "print(tensor_1d_with_strings)"
   ]
  },
  {
   "cell_type": "code",
   "execution_count": null,
   "metadata": {},
   "outputs": [],
   "source": [
    "tensor_2d_with_strings = tf.constant([[\"Petra\",\"Schmitt\"],[\"Max\",\"Mustermann\"],[\"John\",\"Doe\"]])\n",
    "print(tensor_2d_with_strings)\n",
    "tf.print(tensor_2d_with_strings)"
   ]
  },
  {
   "cell_type": "code",
   "execution_count": null,
   "metadata": {},
   "outputs": [],
   "source": [
    "tensor_2d_with_integer = tf.constant([[1,2],[3,4],[5,6]])\n",
    "print(tensor_2d_with_integer)"
   ]
  },
  {
   "cell_type": "code",
   "execution_count": null,
   "metadata": {},
   "outputs": [],
   "source": [
    "tensor_3d = tf.constant([\n",
    "                            [[1,4],[3,8]],\n",
    "                            [[5,7],[9,3]]\n",
    "                        ])\n",
    "tf.print(tf.rank(tensor_3d))"
   ]
  },
  {
   "cell_type": "markdown",
   "metadata": {},
   "source": [
    "Beispiel numpy zu Tensor"
   ]
  },
  {
   "cell_type": "code",
   "execution_count": null,
   "metadata": {},
   "outputs": [],
   "source": [
    "np_array = np.arange(0,5,step=0.5)\n",
    "print(\"Eine Numpy-Struktur\")\n",
    "tensor_from_numpy = tf.constant(np_array,name=\"converted\",dtype=tf.float16)\n",
    "print(\"... kann als Tensor umgewandelt werden:\")\n",
    "print(tensor_from_numpy)\n",
    "# Ausgabe: \n",
    "print(\"... und wieder als Numpy-Struktur zurück:\")\n",
    "print(tensor_from_numpy.numpy())\n",
    "# Ausgabe\n",
    "# [0.  0.5 1.  1.5 2.  2.5 3.  3.5 4.  4.5]"
   ]
  },
  {
   "cell_type": "code",
   "execution_count": null,
   "metadata": {
    "lines_to_next_cell": 2
   },
   "outputs": [],
   "source": []
  }
 ],
 "metadata": {
  "jupytext": {
   "cell_metadata_filter": "-all",
   "main_language": "python",
   "notebook_metadata_filter": "-all"
  }
 },
 "nbformat": 4,
 "nbformat_minor": 2
}
