{
 "cells": [
  {
   "cell_type": "markdown",
   "metadata": {},
   "source": [
    "\n",
    "Laden und Umkonvertierung eines RGB-Bildes zu einem Tensor mit Pillow und TensorFlow 2\n"
   ]
  },
  {
   "cell_type": "code",
   "execution_count": null,
   "metadata": {
    "lines_to_next_cell": 2
   },
   "outputs": [],
   "source": [
    "import tensorflow as tf\n",
    "import numpy as np\n",
    "from PIL import Image"
   ]
  },
  {
   "cell_type": "code",
   "execution_count": null,
   "metadata": {
    "lines_to_next_cell": 2
   },
   "outputs": [],
   "source": [
    "# Alternative 1: Mit Pillow\n",
    "print (\"== Alternative 1==\")\n",
    "img = Image.open(\"cat.jpg\" )\n",
    "img.load()\n",
    "img_data = np.asarray( img, dtype=\"int32\" )\n",
    "img_tensor = tf.convert_to_tensor(img_data, dtype=tf.int32)\n",
    "tf.print(img_tensor)\n",
    "print(\"Rank des Tensors: {}\".format(tf.rank(img_tensor)))"
   ]
  },
  {
   "cell_type": "code",
   "execution_count": null,
   "metadata": {},
   "outputs": [],
   "source": [
    "# Alternative 2: Mit tf.image.decode_jpeg()\n",
    "print (\"== Alternative 2 == \")\n",
    "img = tf.image.decode_jpeg(tf.io.read_file(\"cat.jpg\"))\n",
    "print(\"Rank des Tensors: {}\".format(tf.rank(img)))\n",
    "print(\"Shape des Bildes: {}\".format(tf.shape(img)))\n",
    "print(\"RGB-Werte vom Pixel (x:0,y:0) :\",img[0][0])"
   ]
  },
  {
   "cell_type": "code",
   "execution_count": null,
   "metadata": {},
   "outputs": [],
   "source": [
    "# Alternative 3: Mit tf.image.decode_image ohne Angaben von Bildformat()\n",
    "print (\"== Alternative 3 == \")\n",
    "img = tf.image.decode_image(tf.io.read_file(\"cat.jpg\"))\n",
    "print(\"Rank des Tensors: {}\".format(tf.rank(img)))\n",
    "print(\"Shape des Bildes: {}\".format(tf.shape(img)))\n",
    "print(\"RGB-Werte vom Pixel (x:0,y:0) :\",img[0][0])"
   ]
  }
 ],
 "metadata": {
  "jupytext": {
   "cell_metadata_filter": "-all",
   "main_language": "python",
   "notebook_metadata_filter": "-all"
  },
  "kernelspec": {
   "display_name": "Python 3",
   "language": "python",
   "name": "python3"
  },
  "language_info": {
   "codemirror_mode": {
    "name": "ipython",
    "version": 3
   },
   "file_extension": ".py",
   "mimetype": "text/x-python",
   "name": "python",
   "nbconvert_exporter": "python",
   "pygments_lexer": "ipython3",
   "version": "3.7.3"
  }
 },
 "nbformat": 4,
 "nbformat_minor": 2
}
